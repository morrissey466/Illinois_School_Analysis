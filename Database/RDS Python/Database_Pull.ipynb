{
 "cells": [
  {
   "cell_type": "code",
   "execution_count": 47,
   "metadata": {},
   "outputs": [],
   "source": [
    "import csv\n",
    "import sqlalchemy as sqAl\n",
    "\n",
    "psql_username = 'postgres'\n",
    "from config import psql_password \n",
    "database_name = 'postgres'\n",
    "host = 'illinoiseducation.cseojgcrzzgi.us-east-1.rds.amazonaws.com'\n",
    "\n",
    "connection_string = f'postgresql://{psql_username}:{psql_password}@{host}:5432/{database_name}'\n",
    "\n",
    "engine = create_engine(connection_string)"
   ]
  },
  {
   "cell_type": "code",
   "execution_count": 48,
   "metadata": {},
   "outputs": [],
   "source": [
    "from sqlalchemy import text\n",
    "\n",
    "\n",
    "import csv\n",
    "\n",
    "path = 'output/high_school.csv'\n",
    "\n",
    "# #Access Database \n",
    "with open(path, 'w') as output:\n",
    "    writer = csv.writer(output)\n",
    "    with engine.connect() as connection:\n",
    "        result = connection.execute(text(\"select * from high_school\"))\n",
    "        writer.writerow([col for col in result.keys()])\n",
    "        for row in result:\n",
    "            writer.writerow(row)"
   ]
  },
  {
   "cell_type": "code",
   "execution_count": 49,
   "metadata": {},
   "outputs": [],
   "source": [
    "# #Access Database \n",
    "\n",
    "path= 'output/district.csv'\n",
    "\n",
    "with open(path, 'w') as output:\n",
    "    writer = csv.writer(output)\n",
    "    with engine.connect() as connection:\n",
    "        result = connection.execute(text(\"select * from district\"))\n",
    "        writer.writerow([col for col in result.keys()])\n",
    "        for row in result:\n",
    "            writer.writerow(row)\n",
    "\n"
   ]
  },
  {
   "cell_type": "code",
   "execution_count": null,
   "metadata": {},
   "outputs": [],
   "source": []
  },
  {
   "cell_type": "code",
   "execution_count": 50,
   "metadata": {},
   "outputs": [],
   "source": [
    "path= 'output/test_scores.csv'\n",
    "\n",
    "with open(path, 'w') as output:\n",
    "    writer = csv.writer(output)\n",
    "    with engine.connect() as connection:\n",
    "        result = connection.execute(text(\"select * from test_scores\"))\n",
    "        writer.writerow([col for col in result.keys()])\n",
    "        for row in result:\n",
    "            writer.writerow(row)"
   ]
  },
  {
   "cell_type": "code",
   "execution_count": 51,
   "metadata": {},
   "outputs": [],
   "source": [
    "path= 'output/financials.csv'\n",
    "\n",
    "with open(path, 'w') as output:\n",
    "    writer = csv.writer(output)\n",
    "    with engine.connect() as connection:\n",
    "        result = connection.execute(text(\"select * from financials\"))\n",
    "        writer.writerow([col for col in result.keys()])\n",
    "        for row in result:\n",
    "            writer.writerow(row)"
   ]
  },
  {
   "cell_type": "code",
   "execution_count": 52,
   "metadata": {},
   "outputs": [],
   "source": [
    "path= 'output/district_test_scores.csv'\n",
    "\n",
    "with open(path, 'w') as output:\n",
    "    writer = csv.writer(output)\n",
    "    with engine.connect() as connection:\n",
    "        result = connection.execute(text(\"select * from district_test_scores\"))\n",
    "        writer.writerow([col for col in result.keys()])\n",
    "        for row in result:\n",
    "            writer.writerow(row)"
   ]
  }
 ],
 "metadata": {
  "kernelspec": {
   "display_name": "PythonData",
   "language": "python",
   "name": "pythondata"
  },
  "language_info": {
   "codemirror_mode": {
    "name": "ipython",
    "version": 3
   },
   "file_extension": ".py",
   "mimetype": "text/x-python",
   "name": "python",
   "nbconvert_exporter": "python",
   "pygments_lexer": "ipython3",
   "version": "3.7.11"
  },
  "vscode": {
   "interpreter": {
    "hash": "7fd4e7b7210a1a19490815e7d81d6f941a73cb4048e22774987478087133e64f"
   }
  }
 },
 "nbformat": 4,
 "nbformat_minor": 2
}
