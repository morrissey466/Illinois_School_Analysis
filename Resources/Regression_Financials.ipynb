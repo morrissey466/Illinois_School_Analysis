{
 "cells": [
  {
   "cell_type": "code",
   "execution_count": 13,
   "id": "d1e6df14",
   "metadata": {},
   "outputs": [],
   "source": [
    "import pandas as pd"
   ]
  },
  {
   "cell_type": "code",
   "execution_count": 14,
   "id": "ebb03f8f",
   "metadata": {},
   "outputs": [
    {
     "data": {
      "text/html": [
       "<div>\n",
       "<style scoped>\n",
       "    .dataframe tbody tr th:only-of-type {\n",
       "        vertical-align: middle;\n",
       "    }\n",
       "\n",
       "    .dataframe tbody tr th {\n",
       "        vertical-align: top;\n",
       "    }\n",
       "\n",
       "    .dataframe thead th {\n",
       "        text-align: right;\n",
       "    }\n",
       "</style>\n",
       "<table border=\"1\" class=\"dataframe\">\n",
       "  <thead>\n",
       "    <tr style=\"text-align: right;\">\n",
       "      <th></th>\n",
       "      <th>RCDTS</th>\n",
       "      <th>Type</th>\n",
       "      <th>District</th>\n",
       "      <th>City</th>\n",
       "      <th>County</th>\n",
       "      <th>District Type</th>\n",
       "      <th>District Size</th>\n",
       "      <th>Total School Tax Rate per $100 2016-17</th>\n",
       "      <th>Total Expenditures 2016-17</th>\n",
       "      <th>Education Fund 2016-17 - Dollars</th>\n",
       "      <th>General Admin 2016-17 - Dollars</th>\n",
       "      <th>Local Property Taxes 2016-17 - Dollars</th>\n",
       "      <th>General State Aid 2016-17 - Dollars</th>\n",
       "      <th>Federal Funding 2016-17 - Dollars</th>\n",
       "    </tr>\n",
       "  </thead>\n",
       "  <tbody>\n",
       "    <tr>\n",
       "      <th>0</th>\n",
       "      <td>010010010260000</td>\n",
       "      <td>District</td>\n",
       "      <td>Payson CUSD 1</td>\n",
       "      <td>Payson</td>\n",
       "      <td>Adams</td>\n",
       "      <td>UNIT</td>\n",
       "      <td>MEDIUM</td>\n",
       "      <td>5.19</td>\n",
       "      <td>5143696.0</td>\n",
       "      <td>3225555.0</td>\n",
       "      <td>564111.0</td>\n",
       "      <td>2531179.0</td>\n",
       "      <td>1775730.0</td>\n",
       "      <td>389805.0</td>\n",
       "    </tr>\n",
       "    <tr>\n",
       "      <th>1</th>\n",
       "      <td>010010020260000</td>\n",
       "      <td>District</td>\n",
       "      <td>Liberty CUSD 2</td>\n",
       "      <td>Liberty</td>\n",
       "      <td>Adams</td>\n",
       "      <td>UNIT</td>\n",
       "      <td>MEDIUM</td>\n",
       "      <td>3.85</td>\n",
       "      <td>5443479.0</td>\n",
       "      <td>3907503.0</td>\n",
       "      <td>622126.0</td>\n",
       "      <td>2253278.0</td>\n",
       "      <td>1905501.0</td>\n",
       "      <td>362160.0</td>\n",
       "    </tr>\n",
       "    <tr>\n",
       "      <th>2</th>\n",
       "      <td>010010030260000</td>\n",
       "      <td>District</td>\n",
       "      <td>Central CUSD 3</td>\n",
       "      <td>Camp Point</td>\n",
       "      <td>Adams</td>\n",
       "      <td>UNIT</td>\n",
       "      <td>MEDIUM</td>\n",
       "      <td>3.64</td>\n",
       "      <td>7564187.0</td>\n",
       "      <td>5960372.0</td>\n",
       "      <td>770369.0</td>\n",
       "      <td>3128518.0</td>\n",
       "      <td>2892183.0</td>\n",
       "      <td>620882.0</td>\n",
       "    </tr>\n",
       "    <tr>\n",
       "      <th>3</th>\n",
       "      <td>010010040260000</td>\n",
       "      <td>District</td>\n",
       "      <td>CUSD 4</td>\n",
       "      <td>Mendon</td>\n",
       "      <td>Adams</td>\n",
       "      <td>UNIT</td>\n",
       "      <td>MEDIUM</td>\n",
       "      <td>5.59</td>\n",
       "      <td>6350671.0</td>\n",
       "      <td>4584398.0</td>\n",
       "      <td>671307.0</td>\n",
       "      <td>3634218.0</td>\n",
       "      <td>2318723.0</td>\n",
       "      <td>383059.0</td>\n",
       "    </tr>\n",
       "    <tr>\n",
       "      <th>4</th>\n",
       "      <td>010011720220000</td>\n",
       "      <td>District</td>\n",
       "      <td>Quincy SD 172</td>\n",
       "      <td>Quincy</td>\n",
       "      <td>Adams</td>\n",
       "      <td>UNIT</td>\n",
       "      <td>LARGE</td>\n",
       "      <td>4.04</td>\n",
       "      <td>92289055.0</td>\n",
       "      <td>48343392.0</td>\n",
       "      <td>2423593.0</td>\n",
       "      <td>39430662.0</td>\n",
       "      <td>12774845.0</td>\n",
       "      <td>8539441.0</td>\n",
       "    </tr>\n",
       "    <tr>\n",
       "      <th>...</th>\n",
       "      <td>...</td>\n",
       "      <td>...</td>\n",
       "      <td>...</td>\n",
       "      <td>...</td>\n",
       "      <td>...</td>\n",
       "      <td>...</td>\n",
       "      <td>...</td>\n",
       "      <td>...</td>\n",
       "      <td>...</td>\n",
       "      <td>...</td>\n",
       "      <td>...</td>\n",
       "      <td>...</td>\n",
       "      <td>...</td>\n",
       "      <td>...</td>\n",
       "    </tr>\n",
       "    <tr>\n",
       "      <th>844</th>\n",
       "      <td>56099201U260000</td>\n",
       "      <td>District</td>\n",
       "      <td>Crete Monee CUSD 201U</td>\n",
       "      <td>Crete</td>\n",
       "      <td>Will</td>\n",
       "      <td>UNIT</td>\n",
       "      <td>LARGE</td>\n",
       "      <td>8.63</td>\n",
       "      <td>81581856.0</td>\n",
       "      <td>51129825.0</td>\n",
       "      <td>1762740.0</td>\n",
       "      <td>48132481.0</td>\n",
       "      <td>12961928.0</td>\n",
       "      <td>4672336.0</td>\n",
       "    </tr>\n",
       "    <tr>\n",
       "      <th>845</th>\n",
       "      <td>56099207U260000</td>\n",
       "      <td>District</td>\n",
       "      <td>Peotone CUSD 207U</td>\n",
       "      <td>Peotone</td>\n",
       "      <td>Will</td>\n",
       "      <td>UNIT</td>\n",
       "      <td>MEDIUM</td>\n",
       "      <td>4.63</td>\n",
       "      <td>21225430.0</td>\n",
       "      <td>12507512.0</td>\n",
       "      <td>641779.0</td>\n",
       "      <td>16114818.0</td>\n",
       "      <td>876450.0</td>\n",
       "      <td>644859.0</td>\n",
       "    </tr>\n",
       "    <tr>\n",
       "      <th>846</th>\n",
       "      <td>56099209U260000</td>\n",
       "      <td>District</td>\n",
       "      <td>Wilmington CUSD 209U</td>\n",
       "      <td>Wilmington</td>\n",
       "      <td>Will</td>\n",
       "      <td>UNIT</td>\n",
       "      <td>MEDIUM</td>\n",
       "      <td>4.68</td>\n",
       "      <td>18288571.0</td>\n",
       "      <td>12289373.0</td>\n",
       "      <td>459145.0</td>\n",
       "      <td>10113226.0</td>\n",
       "      <td>2092655.0</td>\n",
       "      <td>2594452.0</td>\n",
       "    </tr>\n",
       "    <tr>\n",
       "      <th>847</th>\n",
       "      <td>56099255U260000</td>\n",
       "      <td>District</td>\n",
       "      <td>Reed Custer CUSD 255U</td>\n",
       "      <td>Braidwood</td>\n",
       "      <td>Will</td>\n",
       "      <td>UNIT</td>\n",
       "      <td>MEDIUM</td>\n",
       "      <td>3.89</td>\n",
       "      <td>41320015.0</td>\n",
       "      <td>17942896.0</td>\n",
       "      <td>829057.0</td>\n",
       "      <td>23739445.0</td>\n",
       "      <td>772564.0</td>\n",
       "      <td>1080635.0</td>\n",
       "    </tr>\n",
       "    <tr>\n",
       "      <th>848</th>\n",
       "      <td>56099365U260000</td>\n",
       "      <td>District</td>\n",
       "      <td>Valley View CUSD 365U</td>\n",
       "      <td>Romeoville</td>\n",
       "      <td>Will</td>\n",
       "      <td>UNIT</td>\n",
       "      <td>LARGE</td>\n",
       "      <td>7.54</td>\n",
       "      <td>275074739.0</td>\n",
       "      <td>185576657.0</td>\n",
       "      <td>5433914.0</td>\n",
       "      <td>175243384.0</td>\n",
       "      <td>36099150.0</td>\n",
       "      <td>15379670.0</td>\n",
       "    </tr>\n",
       "  </tbody>\n",
       "</table>\n",
       "<p>849 rows × 14 columns</p>\n",
       "</div>"
      ],
      "text/plain": [
       "               RCDTS      Type               District        City County  \\\n",
       "0    010010010260000  District          Payson CUSD 1      Payson  Adams   \n",
       "1    010010020260000  District         Liberty CUSD 2     Liberty  Adams   \n",
       "2    010010030260000  District         Central CUSD 3  Camp Point  Adams   \n",
       "3    010010040260000  District                 CUSD 4      Mendon  Adams   \n",
       "4    010011720220000  District          Quincy SD 172      Quincy  Adams   \n",
       "..               ...       ...                    ...         ...    ...   \n",
       "844  56099201U260000  District  Crete Monee CUSD 201U       Crete   Will   \n",
       "845  56099207U260000  District      Peotone CUSD 207U     Peotone   Will   \n",
       "846  56099209U260000  District   Wilmington CUSD 209U  Wilmington   Will   \n",
       "847  56099255U260000  District  Reed Custer CUSD 255U   Braidwood   Will   \n",
       "848  56099365U260000  District  Valley View CUSD 365U  Romeoville   Will   \n",
       "\n",
       "    District Type District Size  Total School Tax Rate per $100 2016-17  \\\n",
       "0            UNIT        MEDIUM                                    5.19   \n",
       "1            UNIT        MEDIUM                                    3.85   \n",
       "2            UNIT        MEDIUM                                    3.64   \n",
       "3            UNIT        MEDIUM                                    5.59   \n",
       "4            UNIT         LARGE                                    4.04   \n",
       "..            ...           ...                                     ...   \n",
       "844          UNIT         LARGE                                    8.63   \n",
       "845          UNIT        MEDIUM                                    4.63   \n",
       "846          UNIT        MEDIUM                                    4.68   \n",
       "847          UNIT        MEDIUM                                    3.89   \n",
       "848          UNIT         LARGE                                    7.54   \n",
       "\n",
       "     Total Expenditures 2016-17  Education Fund 2016-17 - Dollars  \\\n",
       "0                     5143696.0                         3225555.0   \n",
       "1                     5443479.0                         3907503.0   \n",
       "2                     7564187.0                         5960372.0   \n",
       "3                     6350671.0                         4584398.0   \n",
       "4                    92289055.0                        48343392.0   \n",
       "..                          ...                               ...   \n",
       "844                  81581856.0                        51129825.0   \n",
       "845                  21225430.0                        12507512.0   \n",
       "846                  18288571.0                        12289373.0   \n",
       "847                  41320015.0                        17942896.0   \n",
       "848                 275074739.0                       185576657.0   \n",
       "\n",
       "     General Admin 2016-17 - Dollars  Local Property Taxes 2016-17 - Dollars  \\\n",
       "0                           564111.0                               2531179.0   \n",
       "1                           622126.0                               2253278.0   \n",
       "2                           770369.0                               3128518.0   \n",
       "3                           671307.0                               3634218.0   \n",
       "4                          2423593.0                              39430662.0   \n",
       "..                               ...                                     ...   \n",
       "844                        1762740.0                              48132481.0   \n",
       "845                         641779.0                              16114818.0   \n",
       "846                         459145.0                              10113226.0   \n",
       "847                         829057.0                              23739445.0   \n",
       "848                        5433914.0                             175243384.0   \n",
       "\n",
       "     General State Aid 2016-17 - Dollars  Federal Funding 2016-17 - Dollars  \n",
       "0                              1775730.0                           389805.0  \n",
       "1                              1905501.0                           362160.0  \n",
       "2                              2892183.0                           620882.0  \n",
       "3                              2318723.0                           383059.0  \n",
       "4                             12774845.0                          8539441.0  \n",
       "..                                   ...                                ...  \n",
       "844                           12961928.0                          4672336.0  \n",
       "845                             876450.0                           644859.0  \n",
       "846                            2092655.0                          2594452.0  \n",
       "847                             772564.0                          1080635.0  \n",
       "848                           36099150.0                         15379670.0  \n",
       "\n",
       "[849 rows x 14 columns]"
      ]
     },
     "execution_count": 14,
     "metadata": {},
     "output_type": "execute_result"
    }
   ],
   "source": [
    "fin_df = pd.read_csv(\"clean_data/clean_financials.csv\")\n",
    "fin_df"
   ]
  },
  {
   "cell_type": "code",
   "execution_count": 15,
   "id": "b732739e",
   "metadata": {},
   "outputs": [
    {
     "data": {
      "text/html": [
       "<div>\n",
       "<style scoped>\n",
       "    .dataframe tbody tr th:only-of-type {\n",
       "        vertical-align: middle;\n",
       "    }\n",
       "\n",
       "    .dataframe tbody tr th {\n",
       "        vertical-align: top;\n",
       "    }\n",
       "\n",
       "    .dataframe thead th {\n",
       "        text-align: right;\n",
       "    }\n",
       "</style>\n",
       "<table border=\"1\" class=\"dataframe\">\n",
       "  <thead>\n",
       "    <tr style=\"text-align: right;\">\n",
       "      <th></th>\n",
       "      <th>RCDTS</th>\n",
       "      <th>Type</th>\n",
       "      <th>District</th>\n",
       "      <th>City</th>\n",
       "      <th>County</th>\n",
       "      <th>District Type</th>\n",
       "      <th>District Size</th>\n",
       "      <th>TaxRate</th>\n",
       "      <th>Expenditures</th>\n",
       "      <th>EdFund</th>\n",
       "      <th>GenAdmin</th>\n",
       "      <th>PTax</th>\n",
       "      <th>StateAid</th>\n",
       "      <th>FedFund</th>\n",
       "    </tr>\n",
       "  </thead>\n",
       "  <tbody>\n",
       "    <tr>\n",
       "      <th>0</th>\n",
       "      <td>010010010260000</td>\n",
       "      <td>District</td>\n",
       "      <td>Payson CUSD 1</td>\n",
       "      <td>Payson</td>\n",
       "      <td>Adams</td>\n",
       "      <td>UNIT</td>\n",
       "      <td>MEDIUM</td>\n",
       "      <td>5.19</td>\n",
       "      <td>5143696.0</td>\n",
       "      <td>3225555.0</td>\n",
       "      <td>564111.0</td>\n",
       "      <td>2531179.0</td>\n",
       "      <td>1775730.0</td>\n",
       "      <td>389805.0</td>\n",
       "    </tr>\n",
       "    <tr>\n",
       "      <th>1</th>\n",
       "      <td>010010020260000</td>\n",
       "      <td>District</td>\n",
       "      <td>Liberty CUSD 2</td>\n",
       "      <td>Liberty</td>\n",
       "      <td>Adams</td>\n",
       "      <td>UNIT</td>\n",
       "      <td>MEDIUM</td>\n",
       "      <td>3.85</td>\n",
       "      <td>5443479.0</td>\n",
       "      <td>3907503.0</td>\n",
       "      <td>622126.0</td>\n",
       "      <td>2253278.0</td>\n",
       "      <td>1905501.0</td>\n",
       "      <td>362160.0</td>\n",
       "    </tr>\n",
       "    <tr>\n",
       "      <th>2</th>\n",
       "      <td>010010030260000</td>\n",
       "      <td>District</td>\n",
       "      <td>Central CUSD 3</td>\n",
       "      <td>Camp Point</td>\n",
       "      <td>Adams</td>\n",
       "      <td>UNIT</td>\n",
       "      <td>MEDIUM</td>\n",
       "      <td>3.64</td>\n",
       "      <td>7564187.0</td>\n",
       "      <td>5960372.0</td>\n",
       "      <td>770369.0</td>\n",
       "      <td>3128518.0</td>\n",
       "      <td>2892183.0</td>\n",
       "      <td>620882.0</td>\n",
       "    </tr>\n",
       "    <tr>\n",
       "      <th>3</th>\n",
       "      <td>010010040260000</td>\n",
       "      <td>District</td>\n",
       "      <td>CUSD 4</td>\n",
       "      <td>Mendon</td>\n",
       "      <td>Adams</td>\n",
       "      <td>UNIT</td>\n",
       "      <td>MEDIUM</td>\n",
       "      <td>5.59</td>\n",
       "      <td>6350671.0</td>\n",
       "      <td>4584398.0</td>\n",
       "      <td>671307.0</td>\n",
       "      <td>3634218.0</td>\n",
       "      <td>2318723.0</td>\n",
       "      <td>383059.0</td>\n",
       "    </tr>\n",
       "    <tr>\n",
       "      <th>4</th>\n",
       "      <td>010011720220000</td>\n",
       "      <td>District</td>\n",
       "      <td>Quincy SD 172</td>\n",
       "      <td>Quincy</td>\n",
       "      <td>Adams</td>\n",
       "      <td>UNIT</td>\n",
       "      <td>LARGE</td>\n",
       "      <td>4.04</td>\n",
       "      <td>92289055.0</td>\n",
       "      <td>48343392.0</td>\n",
       "      <td>2423593.0</td>\n",
       "      <td>39430662.0</td>\n",
       "      <td>12774845.0</td>\n",
       "      <td>8539441.0</td>\n",
       "    </tr>\n",
       "    <tr>\n",
       "      <th>...</th>\n",
       "      <td>...</td>\n",
       "      <td>...</td>\n",
       "      <td>...</td>\n",
       "      <td>...</td>\n",
       "      <td>...</td>\n",
       "      <td>...</td>\n",
       "      <td>...</td>\n",
       "      <td>...</td>\n",
       "      <td>...</td>\n",
       "      <td>...</td>\n",
       "      <td>...</td>\n",
       "      <td>...</td>\n",
       "      <td>...</td>\n",
       "      <td>...</td>\n",
       "    </tr>\n",
       "    <tr>\n",
       "      <th>844</th>\n",
       "      <td>56099201U260000</td>\n",
       "      <td>District</td>\n",
       "      <td>Crete Monee CUSD 201U</td>\n",
       "      <td>Crete</td>\n",
       "      <td>Will</td>\n",
       "      <td>UNIT</td>\n",
       "      <td>LARGE</td>\n",
       "      <td>8.63</td>\n",
       "      <td>81581856.0</td>\n",
       "      <td>51129825.0</td>\n",
       "      <td>1762740.0</td>\n",
       "      <td>48132481.0</td>\n",
       "      <td>12961928.0</td>\n",
       "      <td>4672336.0</td>\n",
       "    </tr>\n",
       "    <tr>\n",
       "      <th>845</th>\n",
       "      <td>56099207U260000</td>\n",
       "      <td>District</td>\n",
       "      <td>Peotone CUSD 207U</td>\n",
       "      <td>Peotone</td>\n",
       "      <td>Will</td>\n",
       "      <td>UNIT</td>\n",
       "      <td>MEDIUM</td>\n",
       "      <td>4.63</td>\n",
       "      <td>21225430.0</td>\n",
       "      <td>12507512.0</td>\n",
       "      <td>641779.0</td>\n",
       "      <td>16114818.0</td>\n",
       "      <td>876450.0</td>\n",
       "      <td>644859.0</td>\n",
       "    </tr>\n",
       "    <tr>\n",
       "      <th>846</th>\n",
       "      <td>56099209U260000</td>\n",
       "      <td>District</td>\n",
       "      <td>Wilmington CUSD 209U</td>\n",
       "      <td>Wilmington</td>\n",
       "      <td>Will</td>\n",
       "      <td>UNIT</td>\n",
       "      <td>MEDIUM</td>\n",
       "      <td>4.68</td>\n",
       "      <td>18288571.0</td>\n",
       "      <td>12289373.0</td>\n",
       "      <td>459145.0</td>\n",
       "      <td>10113226.0</td>\n",
       "      <td>2092655.0</td>\n",
       "      <td>2594452.0</td>\n",
       "    </tr>\n",
       "    <tr>\n",
       "      <th>847</th>\n",
       "      <td>56099255U260000</td>\n",
       "      <td>District</td>\n",
       "      <td>Reed Custer CUSD 255U</td>\n",
       "      <td>Braidwood</td>\n",
       "      <td>Will</td>\n",
       "      <td>UNIT</td>\n",
       "      <td>MEDIUM</td>\n",
       "      <td>3.89</td>\n",
       "      <td>41320015.0</td>\n",
       "      <td>17942896.0</td>\n",
       "      <td>829057.0</td>\n",
       "      <td>23739445.0</td>\n",
       "      <td>772564.0</td>\n",
       "      <td>1080635.0</td>\n",
       "    </tr>\n",
       "    <tr>\n",
       "      <th>848</th>\n",
       "      <td>56099365U260000</td>\n",
       "      <td>District</td>\n",
       "      <td>Valley View CUSD 365U</td>\n",
       "      <td>Romeoville</td>\n",
       "      <td>Will</td>\n",
       "      <td>UNIT</td>\n",
       "      <td>LARGE</td>\n",
       "      <td>7.54</td>\n",
       "      <td>275074739.0</td>\n",
       "      <td>185576657.0</td>\n",
       "      <td>5433914.0</td>\n",
       "      <td>175243384.0</td>\n",
       "      <td>36099150.0</td>\n",
       "      <td>15379670.0</td>\n",
       "    </tr>\n",
       "  </tbody>\n",
       "</table>\n",
       "<p>849 rows × 14 columns</p>\n",
       "</div>"
      ],
      "text/plain": [
       "               RCDTS      Type               District        City County  \\\n",
       "0    010010010260000  District          Payson CUSD 1      Payson  Adams   \n",
       "1    010010020260000  District         Liberty CUSD 2     Liberty  Adams   \n",
       "2    010010030260000  District         Central CUSD 3  Camp Point  Adams   \n",
       "3    010010040260000  District                 CUSD 4      Mendon  Adams   \n",
       "4    010011720220000  District          Quincy SD 172      Quincy  Adams   \n",
       "..               ...       ...                    ...         ...    ...   \n",
       "844  56099201U260000  District  Crete Monee CUSD 201U       Crete   Will   \n",
       "845  56099207U260000  District      Peotone CUSD 207U     Peotone   Will   \n",
       "846  56099209U260000  District   Wilmington CUSD 209U  Wilmington   Will   \n",
       "847  56099255U260000  District  Reed Custer CUSD 255U   Braidwood   Will   \n",
       "848  56099365U260000  District  Valley View CUSD 365U  Romeoville   Will   \n",
       "\n",
       "    District Type District Size  TaxRate  Expenditures       EdFund  \\\n",
       "0            UNIT        MEDIUM     5.19     5143696.0    3225555.0   \n",
       "1            UNIT        MEDIUM     3.85     5443479.0    3907503.0   \n",
       "2            UNIT        MEDIUM     3.64     7564187.0    5960372.0   \n",
       "3            UNIT        MEDIUM     5.59     6350671.0    4584398.0   \n",
       "4            UNIT         LARGE     4.04    92289055.0   48343392.0   \n",
       "..            ...           ...      ...           ...          ...   \n",
       "844          UNIT         LARGE     8.63    81581856.0   51129825.0   \n",
       "845          UNIT        MEDIUM     4.63    21225430.0   12507512.0   \n",
       "846          UNIT        MEDIUM     4.68    18288571.0   12289373.0   \n",
       "847          UNIT        MEDIUM     3.89    41320015.0   17942896.0   \n",
       "848          UNIT         LARGE     7.54   275074739.0  185576657.0   \n",
       "\n",
       "      GenAdmin         PTax    StateAid     FedFund  \n",
       "0     564111.0    2531179.0   1775730.0    389805.0  \n",
       "1     622126.0    2253278.0   1905501.0    362160.0  \n",
       "2     770369.0    3128518.0   2892183.0    620882.0  \n",
       "3     671307.0    3634218.0   2318723.0    383059.0  \n",
       "4    2423593.0   39430662.0  12774845.0   8539441.0  \n",
       "..         ...          ...         ...         ...  \n",
       "844  1762740.0   48132481.0  12961928.0   4672336.0  \n",
       "845   641779.0   16114818.0    876450.0    644859.0  \n",
       "846   459145.0   10113226.0   2092655.0   2594452.0  \n",
       "847   829057.0   23739445.0    772564.0   1080635.0  \n",
       "848  5433914.0  175243384.0  36099150.0  15379670.0  \n",
       "\n",
       "[849 rows x 14 columns]"
      ]
     },
     "execution_count": 15,
     "metadata": {},
     "output_type": "execute_result"
    }
   ],
   "source": [
    "fin_df.rename(columns = {'Total School Tax Rate per $100 2016-17':'TaxRate'}, inplace = True)\n",
    "fin_df.rename(columns = {'Total Expenditures 2016-17':'Expenditures'}, inplace = True)\n",
    "fin_df.rename(columns = {'Education Fund 2016-17 - Dollars':'EdFund'}, inplace = True)\n",
    "fin_df.rename(columns = {'General Admin 2016-17 - Dollars':'GenAdmin'}, inplace = True)\n",
    "fin_df.rename(columns = {'Local Property Taxes 2016-17 - Dollars':'PTax'}, inplace = True)\n",
    "fin_df.rename(columns = {'General State Aid 2016-17 - Dollars':'StateAid'}, inplace = True)\n",
    "fin_df.rename(columns = {'Federal Funding 2016-17 - Dollars':'FedFund'}, inplace = True)\n",
    "fin_df"
   ]
  },
  {
   "cell_type": "code",
   "execution_count": 16,
   "id": "52380819",
   "metadata": {},
   "outputs": [
    {
     "data": {
      "text/html": [
       "<div>\n",
       "<style scoped>\n",
       "    .dataframe tbody tr th:only-of-type {\n",
       "        vertical-align: middle;\n",
       "    }\n",
       "\n",
       "    .dataframe tbody tr th {\n",
       "        vertical-align: top;\n",
       "    }\n",
       "\n",
       "    .dataframe thead th {\n",
       "        text-align: right;\n",
       "    }\n",
       "</style>\n",
       "<table border=\"1\" class=\"dataframe\">\n",
       "  <thead>\n",
       "    <tr style=\"text-align: right;\">\n",
       "      <th></th>\n",
       "      <th>RCDTS</th>\n",
       "      <th>County</th>\n",
       "      <th>Dist #</th>\n",
       "      <th>District Name/ School Name</th>\n",
       "      <th>City</th>\n",
       "      <th>ELA</th>\n",
       "      <th>Math</th>\n",
       "    </tr>\n",
       "  </thead>\n",
       "  <tbody>\n",
       "    <tr>\n",
       "      <th>0</th>\n",
       "      <td>010010010260000</td>\n",
       "      <td>Adams</td>\n",
       "      <td>10</td>\n",
       "      <td>Payson CUSD 1</td>\n",
       "      <td>Payson</td>\n",
       "      <td>524.3</td>\n",
       "      <td>489.1</td>\n",
       "    </tr>\n",
       "    <tr>\n",
       "      <th>1</th>\n",
       "      <td>010010020260000</td>\n",
       "      <td>Adams</td>\n",
       "      <td>20</td>\n",
       "      <td>Liberty CUSD 2</td>\n",
       "      <td>Liberty</td>\n",
       "      <td>500.9</td>\n",
       "      <td>485.4</td>\n",
       "    </tr>\n",
       "    <tr>\n",
       "      <th>2</th>\n",
       "      <td>010010030260000</td>\n",
       "      <td>Adams</td>\n",
       "      <td>30</td>\n",
       "      <td>Central CUSD 3</td>\n",
       "      <td>Camp Point</td>\n",
       "      <td>490.6</td>\n",
       "      <td>488.3</td>\n",
       "    </tr>\n",
       "    <tr>\n",
       "      <th>3</th>\n",
       "      <td>010010040260000</td>\n",
       "      <td>Adams</td>\n",
       "      <td>40</td>\n",
       "      <td>CUSD 4</td>\n",
       "      <td>Mendon</td>\n",
       "      <td>505.9</td>\n",
       "      <td>485.0</td>\n",
       "    </tr>\n",
       "    <tr>\n",
       "      <th>4</th>\n",
       "      <td>010011720220000</td>\n",
       "      <td>Adams</td>\n",
       "      <td>1720</td>\n",
       "      <td>Quincy SD 172</td>\n",
       "      <td>Quincy</td>\n",
       "      <td>489.8</td>\n",
       "      <td>473.6</td>\n",
       "    </tr>\n",
       "    <tr>\n",
       "      <th>...</th>\n",
       "      <td>...</td>\n",
       "      <td>...</td>\n",
       "      <td>...</td>\n",
       "      <td>...</td>\n",
       "      <td>...</td>\n",
       "      <td>...</td>\n",
       "      <td>...</td>\n",
       "    </tr>\n",
       "    <tr>\n",
       "      <th>482</th>\n",
       "      <td>56099201U260000</td>\n",
       "      <td>Will</td>\n",
       "      <td>201U</td>\n",
       "      <td>Crete Monee CUSD 201U</td>\n",
       "      <td>Crete</td>\n",
       "      <td>479.9</td>\n",
       "      <td>444.4</td>\n",
       "    </tr>\n",
       "    <tr>\n",
       "      <th>483</th>\n",
       "      <td>56099207U260000</td>\n",
       "      <td>Will</td>\n",
       "      <td>207U</td>\n",
       "      <td>Peotone CUSD 207U</td>\n",
       "      <td>Peotone</td>\n",
       "      <td>513.0</td>\n",
       "      <td>492.7</td>\n",
       "    </tr>\n",
       "    <tr>\n",
       "      <th>484</th>\n",
       "      <td>56099209U260000</td>\n",
       "      <td>Will</td>\n",
       "      <td>209U</td>\n",
       "      <td>Wilmington CUSD 209U</td>\n",
       "      <td>Wilmington</td>\n",
       "      <td>480.5</td>\n",
       "      <td>458.4</td>\n",
       "    </tr>\n",
       "    <tr>\n",
       "      <th>485</th>\n",
       "      <td>56099255U260000</td>\n",
       "      <td>Will</td>\n",
       "      <td>255U</td>\n",
       "      <td>Reed Custer CUSD 255U</td>\n",
       "      <td>Braidwood</td>\n",
       "      <td>479.1</td>\n",
       "      <td>483.8</td>\n",
       "    </tr>\n",
       "    <tr>\n",
       "      <th>486</th>\n",
       "      <td>56099365U260000</td>\n",
       "      <td>Will</td>\n",
       "      <td>365U</td>\n",
       "      <td>Valley View CUSD 365U</td>\n",
       "      <td>Romeoville</td>\n",
       "      <td>490.3</td>\n",
       "      <td>489.1</td>\n",
       "    </tr>\n",
       "  </tbody>\n",
       "</table>\n",
       "<p>487 rows × 7 columns</p>\n",
       "</div>"
      ],
      "text/plain": [
       "               RCDTS County  Dist #  District Name/ School Name        City  \\\n",
       "0    010010010260000   Adams      10              Payson CUSD 1      Payson   \n",
       "1    010010020260000   Adams      20             Liberty CUSD 2     Liberty   \n",
       "2    010010030260000   Adams      30             Central CUSD 3  Camp Point   \n",
       "3    010010040260000   Adams      40                     CUSD 4      Mendon   \n",
       "4    010011720220000   Adams    1720              Quincy SD 172      Quincy   \n",
       "..               ...     ...     ...                        ...         ...   \n",
       "482  56099201U260000    Will    201U      Crete Monee CUSD 201U       Crete   \n",
       "483  56099207U260000    Will    207U          Peotone CUSD 207U     Peotone   \n",
       "484  56099209U260000    Will    209U       Wilmington CUSD 209U  Wilmington   \n",
       "485  56099255U260000    Will    255U      Reed Custer CUSD 255U   Braidwood   \n",
       "486  56099365U260000    Will    365U      Valley View CUSD 365U  Romeoville   \n",
       "\n",
       "       ELA   Math  \n",
       "0    524.3  489.1  \n",
       "1    500.9  485.4  \n",
       "2    490.6  488.3  \n",
       "3    505.9  485.0  \n",
       "4    489.8  473.6  \n",
       "..     ...    ...  \n",
       "482  479.9  444.4  \n",
       "483  513.0  492.7  \n",
       "484  480.5  458.4  \n",
       "485  479.1  483.8  \n",
       "486  490.3  489.1  \n",
       "\n",
       "[487 rows x 7 columns]"
      ]
     },
     "execution_count": 16,
     "metadata": {},
     "output_type": "execute_result"
    }
   ],
   "source": [
    "fin_scores_df = pd.read_csv(\"clean_data/ELA and Math Districts.csv\")\n",
    "fin_scores_df"
   ]
  },
  {
   "cell_type": "code",
   "execution_count": 17,
   "id": "35a54276",
   "metadata": {},
   "outputs": [
    {
     "data": {
      "text/html": [
       "<div>\n",
       "<style scoped>\n",
       "    .dataframe tbody tr th:only-of-type {\n",
       "        vertical-align: middle;\n",
       "    }\n",
       "\n",
       "    .dataframe tbody tr th {\n",
       "        vertical-align: top;\n",
       "    }\n",
       "\n",
       "    .dataframe thead th {\n",
       "        text-align: right;\n",
       "    }\n",
       "</style>\n",
       "<table border=\"1\" class=\"dataframe\">\n",
       "  <thead>\n",
       "    <tr style=\"text-align: right;\">\n",
       "      <th></th>\n",
       "      <th>RCDTS</th>\n",
       "      <th>Type</th>\n",
       "      <th>District</th>\n",
       "      <th>City_x</th>\n",
       "      <th>County</th>\n",
       "      <th>District Type</th>\n",
       "      <th>District Size</th>\n",
       "      <th>TaxRate</th>\n",
       "      <th>Expenditures</th>\n",
       "      <th>EdFund</th>\n",
       "      <th>GenAdmin</th>\n",
       "      <th>PTax</th>\n",
       "      <th>StateAid</th>\n",
       "      <th>FedFund</th>\n",
       "      <th>County</th>\n",
       "      <th>Dist #</th>\n",
       "      <th>District Name/ School Name</th>\n",
       "      <th>City_y</th>\n",
       "      <th>ELA</th>\n",
       "      <th>Math</th>\n",
       "    </tr>\n",
       "  </thead>\n",
       "  <tbody>\n",
       "    <tr>\n",
       "      <th>0</th>\n",
       "      <td>010010010260000</td>\n",
       "      <td>District</td>\n",
       "      <td>Payson CUSD 1</td>\n",
       "      <td>Payson</td>\n",
       "      <td>Adams</td>\n",
       "      <td>UNIT</td>\n",
       "      <td>MEDIUM</td>\n",
       "      <td>5.19</td>\n",
       "      <td>5143696.0</td>\n",
       "      <td>3225555.0</td>\n",
       "      <td>564111.0</td>\n",
       "      <td>2531179.0</td>\n",
       "      <td>1775730.0</td>\n",
       "      <td>389805.0</td>\n",
       "      <td>Adams</td>\n",
       "      <td>10</td>\n",
       "      <td>Payson CUSD 1</td>\n",
       "      <td>Payson</td>\n",
       "      <td>524.3</td>\n",
       "      <td>489.1</td>\n",
       "    </tr>\n",
       "    <tr>\n",
       "      <th>1</th>\n",
       "      <td>010010020260000</td>\n",
       "      <td>District</td>\n",
       "      <td>Liberty CUSD 2</td>\n",
       "      <td>Liberty</td>\n",
       "      <td>Adams</td>\n",
       "      <td>UNIT</td>\n",
       "      <td>MEDIUM</td>\n",
       "      <td>3.85</td>\n",
       "      <td>5443479.0</td>\n",
       "      <td>3907503.0</td>\n",
       "      <td>622126.0</td>\n",
       "      <td>2253278.0</td>\n",
       "      <td>1905501.0</td>\n",
       "      <td>362160.0</td>\n",
       "      <td>Adams</td>\n",
       "      <td>20</td>\n",
       "      <td>Liberty CUSD 2</td>\n",
       "      <td>Liberty</td>\n",
       "      <td>500.9</td>\n",
       "      <td>485.4</td>\n",
       "    </tr>\n",
       "    <tr>\n",
       "      <th>2</th>\n",
       "      <td>010010030260000</td>\n",
       "      <td>District</td>\n",
       "      <td>Central CUSD 3</td>\n",
       "      <td>Camp Point</td>\n",
       "      <td>Adams</td>\n",
       "      <td>UNIT</td>\n",
       "      <td>MEDIUM</td>\n",
       "      <td>3.64</td>\n",
       "      <td>7564187.0</td>\n",
       "      <td>5960372.0</td>\n",
       "      <td>770369.0</td>\n",
       "      <td>3128518.0</td>\n",
       "      <td>2892183.0</td>\n",
       "      <td>620882.0</td>\n",
       "      <td>Adams</td>\n",
       "      <td>30</td>\n",
       "      <td>Central CUSD 3</td>\n",
       "      <td>Camp Point</td>\n",
       "      <td>490.6</td>\n",
       "      <td>488.3</td>\n",
       "    </tr>\n",
       "    <tr>\n",
       "      <th>3</th>\n",
       "      <td>010010040260000</td>\n",
       "      <td>District</td>\n",
       "      <td>CUSD 4</td>\n",
       "      <td>Mendon</td>\n",
       "      <td>Adams</td>\n",
       "      <td>UNIT</td>\n",
       "      <td>MEDIUM</td>\n",
       "      <td>5.59</td>\n",
       "      <td>6350671.0</td>\n",
       "      <td>4584398.0</td>\n",
       "      <td>671307.0</td>\n",
       "      <td>3634218.0</td>\n",
       "      <td>2318723.0</td>\n",
       "      <td>383059.0</td>\n",
       "      <td>Adams</td>\n",
       "      <td>40</td>\n",
       "      <td>CUSD 4</td>\n",
       "      <td>Mendon</td>\n",
       "      <td>505.9</td>\n",
       "      <td>485.0</td>\n",
       "    </tr>\n",
       "    <tr>\n",
       "      <th>4</th>\n",
       "      <td>010011720220000</td>\n",
       "      <td>District</td>\n",
       "      <td>Quincy SD 172</td>\n",
       "      <td>Quincy</td>\n",
       "      <td>Adams</td>\n",
       "      <td>UNIT</td>\n",
       "      <td>LARGE</td>\n",
       "      <td>4.04</td>\n",
       "      <td>92289055.0</td>\n",
       "      <td>48343392.0</td>\n",
       "      <td>2423593.0</td>\n",
       "      <td>39430662.0</td>\n",
       "      <td>12774845.0</td>\n",
       "      <td>8539441.0</td>\n",
       "      <td>Adams</td>\n",
       "      <td>1720</td>\n",
       "      <td>Quincy SD 172</td>\n",
       "      <td>Quincy</td>\n",
       "      <td>489.8</td>\n",
       "      <td>473.6</td>\n",
       "    </tr>\n",
       "    <tr>\n",
       "      <th>...</th>\n",
       "      <td>...</td>\n",
       "      <td>...</td>\n",
       "      <td>...</td>\n",
       "      <td>...</td>\n",
       "      <td>...</td>\n",
       "      <td>...</td>\n",
       "      <td>...</td>\n",
       "      <td>...</td>\n",
       "      <td>...</td>\n",
       "      <td>...</td>\n",
       "      <td>...</td>\n",
       "      <td>...</td>\n",
       "      <td>...</td>\n",
       "      <td>...</td>\n",
       "      <td>...</td>\n",
       "      <td>...</td>\n",
       "      <td>...</td>\n",
       "      <td>...</td>\n",
       "      <td>...</td>\n",
       "      <td>...</td>\n",
       "    </tr>\n",
       "    <tr>\n",
       "      <th>844</th>\n",
       "      <td>56099201U260000</td>\n",
       "      <td>District</td>\n",
       "      <td>Crete Monee CUSD 201U</td>\n",
       "      <td>Crete</td>\n",
       "      <td>Will</td>\n",
       "      <td>UNIT</td>\n",
       "      <td>LARGE</td>\n",
       "      <td>8.63</td>\n",
       "      <td>81581856.0</td>\n",
       "      <td>51129825.0</td>\n",
       "      <td>1762740.0</td>\n",
       "      <td>48132481.0</td>\n",
       "      <td>12961928.0</td>\n",
       "      <td>4672336.0</td>\n",
       "      <td>Will</td>\n",
       "      <td>201U</td>\n",
       "      <td>Crete Monee CUSD 201U</td>\n",
       "      <td>Crete</td>\n",
       "      <td>479.9</td>\n",
       "      <td>444.4</td>\n",
       "    </tr>\n",
       "    <tr>\n",
       "      <th>845</th>\n",
       "      <td>56099207U260000</td>\n",
       "      <td>District</td>\n",
       "      <td>Peotone CUSD 207U</td>\n",
       "      <td>Peotone</td>\n",
       "      <td>Will</td>\n",
       "      <td>UNIT</td>\n",
       "      <td>MEDIUM</td>\n",
       "      <td>4.63</td>\n",
       "      <td>21225430.0</td>\n",
       "      <td>12507512.0</td>\n",
       "      <td>641779.0</td>\n",
       "      <td>16114818.0</td>\n",
       "      <td>876450.0</td>\n",
       "      <td>644859.0</td>\n",
       "      <td>Will</td>\n",
       "      <td>207U</td>\n",
       "      <td>Peotone CUSD 207U</td>\n",
       "      <td>Peotone</td>\n",
       "      <td>513.0</td>\n",
       "      <td>492.7</td>\n",
       "    </tr>\n",
       "    <tr>\n",
       "      <th>846</th>\n",
       "      <td>56099209U260000</td>\n",
       "      <td>District</td>\n",
       "      <td>Wilmington CUSD 209U</td>\n",
       "      <td>Wilmington</td>\n",
       "      <td>Will</td>\n",
       "      <td>UNIT</td>\n",
       "      <td>MEDIUM</td>\n",
       "      <td>4.68</td>\n",
       "      <td>18288571.0</td>\n",
       "      <td>12289373.0</td>\n",
       "      <td>459145.0</td>\n",
       "      <td>10113226.0</td>\n",
       "      <td>2092655.0</td>\n",
       "      <td>2594452.0</td>\n",
       "      <td>Will</td>\n",
       "      <td>209U</td>\n",
       "      <td>Wilmington CUSD 209U</td>\n",
       "      <td>Wilmington</td>\n",
       "      <td>480.5</td>\n",
       "      <td>458.4</td>\n",
       "    </tr>\n",
       "    <tr>\n",
       "      <th>847</th>\n",
       "      <td>56099255U260000</td>\n",
       "      <td>District</td>\n",
       "      <td>Reed Custer CUSD 255U</td>\n",
       "      <td>Braidwood</td>\n",
       "      <td>Will</td>\n",
       "      <td>UNIT</td>\n",
       "      <td>MEDIUM</td>\n",
       "      <td>3.89</td>\n",
       "      <td>41320015.0</td>\n",
       "      <td>17942896.0</td>\n",
       "      <td>829057.0</td>\n",
       "      <td>23739445.0</td>\n",
       "      <td>772564.0</td>\n",
       "      <td>1080635.0</td>\n",
       "      <td>Will</td>\n",
       "      <td>255U</td>\n",
       "      <td>Reed Custer CUSD 255U</td>\n",
       "      <td>Braidwood</td>\n",
       "      <td>479.1</td>\n",
       "      <td>483.8</td>\n",
       "    </tr>\n",
       "    <tr>\n",
       "      <th>848</th>\n",
       "      <td>56099365U260000</td>\n",
       "      <td>District</td>\n",
       "      <td>Valley View CUSD 365U</td>\n",
       "      <td>Romeoville</td>\n",
       "      <td>Will</td>\n",
       "      <td>UNIT</td>\n",
       "      <td>LARGE</td>\n",
       "      <td>7.54</td>\n",
       "      <td>275074739.0</td>\n",
       "      <td>185576657.0</td>\n",
       "      <td>5433914.0</td>\n",
       "      <td>175243384.0</td>\n",
       "      <td>36099150.0</td>\n",
       "      <td>15379670.0</td>\n",
       "      <td>Will</td>\n",
       "      <td>365U</td>\n",
       "      <td>Valley View CUSD 365U</td>\n",
       "      <td>Romeoville</td>\n",
       "      <td>490.3</td>\n",
       "      <td>489.1</td>\n",
       "    </tr>\n",
       "  </tbody>\n",
       "</table>\n",
       "<p>472 rows × 20 columns</p>\n",
       "</div>"
      ],
      "text/plain": [
       "               RCDTS      Type               District      City_x County  \\\n",
       "0    010010010260000  District          Payson CUSD 1      Payson  Adams   \n",
       "1    010010020260000  District         Liberty CUSD 2     Liberty  Adams   \n",
       "2    010010030260000  District         Central CUSD 3  Camp Point  Adams   \n",
       "3    010010040260000  District                 CUSD 4      Mendon  Adams   \n",
       "4    010011720220000  District          Quincy SD 172      Quincy  Adams   \n",
       "..               ...       ...                    ...         ...    ...   \n",
       "844  56099201U260000  District  Crete Monee CUSD 201U       Crete   Will   \n",
       "845  56099207U260000  District      Peotone CUSD 207U     Peotone   Will   \n",
       "846  56099209U260000  District   Wilmington CUSD 209U  Wilmington   Will   \n",
       "847  56099255U260000  District  Reed Custer CUSD 255U   Braidwood   Will   \n",
       "848  56099365U260000  District  Valley View CUSD 365U  Romeoville   Will   \n",
       "\n",
       "    District Type District Size  TaxRate  Expenditures       EdFund  \\\n",
       "0            UNIT        MEDIUM     5.19     5143696.0    3225555.0   \n",
       "1            UNIT        MEDIUM     3.85     5443479.0    3907503.0   \n",
       "2            UNIT        MEDIUM     3.64     7564187.0    5960372.0   \n",
       "3            UNIT        MEDIUM     5.59     6350671.0    4584398.0   \n",
       "4            UNIT         LARGE     4.04    92289055.0   48343392.0   \n",
       "..            ...           ...      ...           ...          ...   \n",
       "844          UNIT         LARGE     8.63    81581856.0   51129825.0   \n",
       "845          UNIT        MEDIUM     4.63    21225430.0   12507512.0   \n",
       "846          UNIT        MEDIUM     4.68    18288571.0   12289373.0   \n",
       "847          UNIT        MEDIUM     3.89    41320015.0   17942896.0   \n",
       "848          UNIT         LARGE     7.54   275074739.0  185576657.0   \n",
       "\n",
       "      GenAdmin         PTax    StateAid     FedFund County  Dist #   \\\n",
       "0     564111.0    2531179.0   1775730.0    389805.0   Adams      10   \n",
       "1     622126.0    2253278.0   1905501.0    362160.0   Adams      20   \n",
       "2     770369.0    3128518.0   2892183.0    620882.0   Adams      30   \n",
       "3     671307.0    3634218.0   2318723.0    383059.0   Adams      40   \n",
       "4    2423593.0   39430662.0  12774845.0   8539441.0   Adams    1720   \n",
       "..         ...          ...         ...         ...     ...     ...   \n",
       "844  1762740.0   48132481.0  12961928.0   4672336.0    Will    201U   \n",
       "845   641779.0   16114818.0    876450.0    644859.0    Will    207U   \n",
       "846   459145.0   10113226.0   2092655.0   2594452.0    Will    209U   \n",
       "847   829057.0   23739445.0    772564.0   1080635.0    Will    255U   \n",
       "848  5433914.0  175243384.0  36099150.0  15379670.0    Will    365U   \n",
       "\n",
       "    District Name/ School Name      City_y    ELA   Math  \n",
       "0                Payson CUSD 1      Payson  524.3  489.1  \n",
       "1               Liberty CUSD 2     Liberty  500.9  485.4  \n",
       "2               Central CUSD 3  Camp Point  490.6  488.3  \n",
       "3                       CUSD 4      Mendon  505.9  485.0  \n",
       "4                Quincy SD 172      Quincy  489.8  473.6  \n",
       "..                         ...         ...    ...    ...  \n",
       "844      Crete Monee CUSD 201U       Crete  479.9  444.4  \n",
       "845          Peotone CUSD 207U     Peotone  513.0  492.7  \n",
       "846       Wilmington CUSD 209U  Wilmington  480.5  458.4  \n",
       "847      Reed Custer CUSD 255U   Braidwood  479.1  483.8  \n",
       "848      Valley View CUSD 365U  Romeoville  490.3  489.1  \n",
       "\n",
       "[472 rows x 20 columns]"
      ]
     },
     "execution_count": 17,
     "metadata": {},
     "output_type": "execute_result"
    }
   ],
   "source": [
    "fin_merge_df = pd.merge(fin_df, fin_scores_df, on = \"RCDTS\", how = \"left\")\n",
    "fin_merge_df = fin_merge_df.dropna()\n",
    "fin_merge_df"
   ]
  },
  {
   "cell_type": "code",
   "execution_count": 18,
   "id": "685a4230",
   "metadata": {},
   "outputs": [],
   "source": [
    "import pandas as pd\n",
    "from pathlib import Path\n",
    "import matplotlib.pyplot as plt\n",
    "from sklearn.linear_model import LinearRegression"
   ]
  },
  {
   "cell_type": "code",
   "execution_count": 21,
   "id": "0476704c",
   "metadata": {},
   "outputs": [
    {
     "data": {
      "image/png": "[encoded data removed]",
      "text/plain": [
       "<Figure size 432x288 with 1 Axes>"
      ]
     },
     "metadata": {
      "needs_background": "light"
     },
     "output_type": "display_data"
    },
    {
     "name": "stdout",
     "output_type": "stream",
     "text": [
      "(472,)\n"
     ]
    },
    {
     "data": {
      "image/png": "[encoded data removed]",
      "text/plain": [
       "<Figure size 432x288 with 1 Axes>"
      ]
     },
     "metadata": {
      "needs_background": "light"
     },
     "output_type": "display_data"
    },
    {
     "name": "stdout",
     "output_type": "stream",
     "text": [
      "Coefficient  [-6.41948473]\n",
      "Intercept  517.2798893777397\n"
     ]
    }
   ],
   "source": [
    "plt.scatter(fin_merge_df.TaxRate, fin_merge_df.Math)\n",
    "plt.xlabel('Tax Rate per $100')\n",
    "plt.ylabel('Math')\n",
    "plt.show()\n",
    "\n",
    "X = fin_merge_df.TaxRate.values.reshape(-1, 1)\n",
    "y = fin_merge_df.Math\n",
    "model = LinearRegression()\n",
    "model.fit(X, y)\n",
    "\n",
    "y_pred = model.predict(X)\n",
    "print(y_pred.shape)\n",
    "\n",
    "plt.scatter(X, y)\n",
    "plt.xlabel('Tax Rate per $100')\n",
    "plt.ylabel('Math')\n",
    "plt.plot(X, y_pred, color='red')\n",
    "plt.show()\n",
    "\n",
    "print(\"Coefficient \", model.coef_)\n",
    "print(\"Intercept \", model.intercept_)"
   ]
  },
  {
   "cell_type": "code",
   "execution_count": 22,
   "id": "eab788dd",
   "metadata": {},
   "outputs": [
    {
     "data": {
      "image/png": "[encoded data removed]",
      "text/plain": [
       "<Figure size 432x288 with 1 Axes>"
      ]
     },
     "metadata": {
      "needs_background": "light"
     },
     "output_type": "display_data"
    },
    {
     "name": "stdout",
     "output_type": "stream",
     "text": [
      "(472,)\n"
     ]
    },
    {
     "data": {
      "image/png": "[encoded data removed]",
      "text/plain": [
       "<Figure size 432x288 with 1 Axes>"
      ]
     },
     "metadata": {
      "needs_background": "light"
     },
     "output_type": "display_data"
    },
    {
     "name": "stdout",
     "output_type": "stream",
     "text": [
      "Coefficient  [-5.20397708]\n",
      "Intercept  522.4185413326403\n"
     ]
    }
   ],
   "source": [
    "plt.scatter(fin_merge_df.TaxRate, fin_merge_df.ELA)\n",
    "plt.xlabel('Tax Rate per $100')\n",
    "plt.ylabel('ELA')\n",
    "plt.show()\n",
    "\n",
    "X = fin_merge_df.TaxRate.values.reshape(-1, 1)\n",
    "y = fin_merge_df.ELA\n",
    "model = LinearRegression()\n",
    "model.fit(X, y)\n",
    "\n",
    "y_pred = model.predict(X)\n",
    "print(y_pred.shape)\n",
    "\n",
    "plt.scatter(X, y)\n",
    "plt.xlabel('Tax Rate per $100')\n",
    "plt.ylabel('ELA')\n",
    "plt.plot(X, y_pred, color='red')\n",
    "plt.show()\n",
    "\n",
    "print(\"Coefficient \", model.coef_)\n",
    "print(\"Intercept \", model.intercept_)"
   ]
  },
  {
   "cell_type": "code",
   "execution_count": 24,
   "id": "79620298",
   "metadata": {},
   "outputs": [
    {
     "data": {
      "image/png": "[encoded data removed]",
      "text/plain": [
       "<Figure size 432x288 with 1 Axes>"
      ]
     },
     "metadata": {
      "needs_background": "light"
     },
     "output_type": "display_data"
    },
    {
     "name": "stdout",
     "output_type": "stream",
     "text": [
      "(472,)\n"
     ]
    },
    {
     "data": {
      "image/png": "[encoded data removed]",
      "text/plain": [
       "<Figure size 432x288 with 1 Axes>"
      ]
     },
     "metadata": {
      "needs_background": "light"
     },
     "output_type": "display_data"
    },
    {
     "name": "stdout",
     "output_type": "stream",
     "text": [
      "Coefficient  [5.22540853e-09]\n",
      "Intercept  486.83509578141127\n"
     ]
    }
   ],
   "source": [
    "plt.scatter(fin_merge_df.Expenditures, fin_merge_df.Math)\n",
    "plt.xlabel('Total Expenditures per District')\n",
    "plt.ylabel('Math')\n",
    "plt.show()\n",
    "\n",
    "X = fin_merge_df.Expenditures.values.reshape(-1, 1)\n",
    "y = fin_merge_df.Math\n",
    "model = LinearRegression()\n",
    "model.fit(X, y)\n",
    "\n",
    "y_pred = model.predict(X)\n",
    "print(y_pred.shape)\n",
    "\n",
    "plt.scatter(X, y)\n",
    "plt.xlabel('Total Expenditures per District')\n",
    "plt.ylabel('Math')\n",
    "plt.plot(X, y_pred, color='red')\n",
    "plt.show()\n",
    "\n",
    "print(\"Coefficient \", model.coef_)\n",
    "print(\"Intercept \", model.intercept_)"
   ]
  },
  {
   "cell_type": "code",
   "execution_count": 25,
   "id": "36f931fa",
   "metadata": {},
   "outputs": [
    {
     "data": {
      "image/png": "[encoded data removed]",
      "text/plain": [
       "<Figure size 432x288 with 1 Axes>"
      ]
     },
     "metadata": {
      "needs_background": "light"
     },
     "output_type": "display_data"
    },
    {
     "name": "stdout",
     "output_type": "stream",
     "text": [
      "(472,)\n"
     ]
    },
    {
     "data": {
      "image/png": "[encoded data removed]",
      "text/plain": [
       "<Figure size 432x288 with 1 Axes>"
      ]
     },
     "metadata": {
      "needs_background": "light"
     },
     "output_type": "display_data"
    },
    {
     "name": "stdout",
     "output_type": "stream",
     "text": [
      "Coefficient  [1.55510855e-09]\n",
      "Intercept  497.86318765552403\n"
     ]
    }
   ],
   "source": [
    "plt.scatter(fin_merge_df.Expenditures, fin_merge_df.ELA)\n",
    "plt.xlabel('Tax Rate per $100')\n",
    "plt.ylabel('ELA')\n",
    "plt.show()\n",
    "\n",
    "X = fin_merge_df.Expenditures.values.reshape(-1, 1)\n",
    "y = fin_merge_df.ELA\n",
    "model = LinearRegression()\n",
    "model.fit(X, y)\n",
    "\n",
    "y_pred = model.predict(X)\n",
    "print(y_pred.shape)\n",
    "\n",
    "plt.scatter(X, y)\n",
    "plt.xlabel('Tax Rate per $100')\n",
    "plt.ylabel('ELA')\n",
    "plt.plot(X, y_pred, color='red')\n",
    "plt.show()\n",
    "\n",
    "print(\"Coefficient \", model.coef_)\n",
    "print(\"Intercept \", model.intercept_)"
   ]
  },
  {
   "cell_type": "code",
   "execution_count": 26,
   "id": "3a347d01",
   "metadata": {},
   "outputs": [
    {
     "data": {
      "image/png": "[encoded data removed]",
      "text/plain": [
       "<Figure size 432x288 with 1 Axes>"
      ]
     },
     "metadata": {
      "needs_background": "light"
     },
     "output_type": "display_data"
    },
    {
     "name": "stdout",
     "output_type": "stream",
     "text": [
      "(472,)\n"
     ]
    },
    {
     "data": {
      "image/png": "[encoded data removed]",
      "text/plain": [
       "<Figure size 432x288 with 1 Axes>"
      ]
     },
     "metadata": {
      "needs_background": "light"
     },
     "output_type": "display_data"
    },
    {
     "name": "stdout",
     "output_type": "stream",
     "text": [
      "Coefficient  [5.27099691e-09]\n",
      "Intercept  486.9025207127497\n"
     ]
    }
   ],
   "source": [
    "plt.scatter(fin_merge_df.EdFund, fin_merge_df.Math)\n",
    "plt.xlabel('Education Funding')\n",
    "plt.ylabel('Math')\n",
    "plt.show()\n",
    "\n",
    "X = fin_merge_df.EdFund.values.reshape(-1, 1)\n",
    "y = fin_merge_df.Math\n",
    "model = LinearRegression()\n",
    "model.fit(X, y)\n",
    "\n",
    "y_pred = model.predict(X)\n",
    "print(y_pred.shape)\n",
    "\n",
    "plt.scatter(X, y)\n",
    "plt.xlabel('Education Funding')\n",
    "plt.ylabel('Math')\n",
    "plt.plot(X, y_pred, color='red')\n",
    "plt.show()\n",
    "\n",
    "print(\"Coefficient \", model.coef_)\n",
    "print(\"Intercept \", model.intercept_)"
   ]
  },
  {
   "cell_type": "code",
   "execution_count": 27,
   "id": "1a8e8dd4",
   "metadata": {},
   "outputs": [
    {
     "data": {
      "image/png": "[encoded data removed]",
      "text/plain": [
       "<Figure size 432x288 with 1 Axes>"
      ]
     },
     "metadata": {
      "needs_background": "light"
     },
     "output_type": "display_data"
    },
    {
     "name": "stdout",
     "output_type": "stream",
     "text": [
      "(472,)\n"
     ]
    },
    {
     "data": {
      "image/png": "[encoded data removed]",
      "text/plain": [
       "<Figure size 432x288 with 1 Axes>"
      ]
     },
     "metadata": {
      "needs_background": "light"
     },
     "output_type": "display_data"
    },
    {
     "name": "stdout",
     "output_type": "stream",
     "text": [
      "Coefficient  [1.1403912e-09]\n",
      "Intercept  497.8975435692246\n"
     ]
    }
   ],
   "source": [
    "plt.scatter(fin_merge_df.EdFund, fin_merge_df.ELA)\n",
    "plt.xlabel('Education Funding')\n",
    "plt.ylabel('ELA')\n",
    "plt.show()\n",
    "\n",
    "X = fin_merge_df.EdFund.values.reshape(-1, 1)\n",
    "y = fin_merge_df.ELA\n",
    "model = LinearRegression()\n",
    "model.fit(X, y)\n",
    "\n",
    "y_pred = model.predict(X)\n",
    "print(y_pred.shape)\n",
    "\n",
    "plt.scatter(X, y)\n",
    "plt.xlabel('Education Funding')\n",
    "plt.ylabel('ELA')\n",
    "plt.plot(X, y_pred, color='red')\n",
    "plt.show()\n",
    "\n",
    "print(\"Coefficient \", model.coef_)\n",
    "print(\"Intercept \", model.intercept_)"
   ]
  },
  {
   "cell_type": "code",
   "execution_count": 28,
   "id": "e453c831",
   "metadata": {},
   "outputs": [
    {
     "data": {
      "image/png": "[encoded data removed]",
      "text/plain": [
       "<Figure size 432x288 with 1 Axes>"
      ]
     },
     "metadata": {
      "needs_background": "light"
     },
     "output_type": "display_data"
    },
    {
     "name": "stdout",
     "output_type": "stream",
     "text": [
      "(472,)\n"
     ]
    },
    {
     "data": {
      "image/png": "[encoded data removed]",
      "text/plain": [
       "<Figure size 432x288 with 1 Axes>"
      ]
     },
     "metadata": {
      "needs_background": "light"
     },
     "output_type": "display_data"
    },
    {
     "name": "stdout",
     "output_type": "stream",
     "text": [
      "Coefficient  [5.47034169e-08]\n",
      "Intercept  487.0050182638605\n"
     ]
    }
   ],
   "source": [
    "plt.scatter(fin_merge_df.GenAdmin, fin_merge_df.Math)\n",
    "plt.xlabel('General Admin Dollars')\n",
    "plt.ylabel('Math')\n",
    "plt.show()\n",
    "\n",
    "X = fin_merge_df.GenAdmin.values.reshape(-1, 1)\n",
    "y = fin_merge_df.Math\n",
    "model = LinearRegression()\n",
    "model.fit(X, y)\n",
    "\n",
    "y_pred = model.predict(X)\n",
    "print(y_pred.shape)\n",
    "\n",
    "plt.scatter(X, y)\n",
    "plt.xlabel('General Admin Dollars')\n",
    "plt.ylabel('Math')\n",
    "plt.plot(X, y_pred, color='red')\n",
    "plt.show()\n",
    "\n",
    "print(\"Coefficient \", model.coef_)\n",
    "print(\"Intercept \", model.intercept_)"
   ]
  },
  {
   "cell_type": "code",
   "execution_count": 29,
   "id": "9d5f93b1",
   "metadata": {},
   "outputs": [
    {
     "data": {
      "image/png": "[encoded data removed]",
      "text/plain": [
       "<Figure size 432x288 with 1 Axes>"
      ]
     },
     "metadata": {
      "needs_background": "light"
     },
     "output_type": "display_data"
    },
    {
     "name": "stdout",
     "output_type": "stream",
     "text": [
      "(472,)\n"
     ]
    },
    {
     "data": {
      "image/png": "[encoded data removed]",
      "text/plain": [
       "<Figure size 432x288 with 1 Axes>"
      ]
     },
     "metadata": {
      "needs_background": "light"
     },
     "output_type": "display_data"
    },
    {
     "name": "stdout",
     "output_type": "stream",
     "text": [
      "Coefficient  [-7.58632221e-08]\n",
      "Intercept  498.03734561113214\n"
     ]
    }
   ],
   "source": [
    "plt.scatter(fin_merge_df.GenAdmin, fin_merge_df.ELA)\n",
    "plt.xlabel('General Admin Dollars')\n",
    "plt.ylabel('ELA')\n",
    "plt.show()\n",
    "\n",
    "X = fin_merge_df.GenAdmin.values.reshape(-1, 1)\n",
    "y = fin_merge_df.ELA\n",
    "model = LinearRegression()\n",
    "model.fit(X, y)\n",
    "\n",
    "y_pred = model.predict(X)\n",
    "print(y_pred.shape)\n",
    "\n",
    "plt.scatter(X, y)\n",
    "plt.xlabel('General Admin Dollars')\n",
    "plt.ylabel('ELA')\n",
    "plt.plot(X, y_pred, color='red')\n",
    "plt.show()\n",
    "\n",
    "print(\"Coefficient \", model.coef_)\n",
    "print(\"Intercept \", model.intercept_)"
   ]
  },
  {
   "cell_type": "code",
   "execution_count": 30,
   "id": "4e1151ed",
   "metadata": {},
   "outputs": [
    {
     "data": {
      "image/png": "[encoded data removed]",
      "text/plain": [
       "<Figure size 432x288 with 1 Axes>"
      ]
     },
     "metadata": {
      "needs_background": "light"
     },
     "output_type": "display_data"
    },
    {
     "name": "stdout",
     "output_type": "stream",
     "text": [
      "(472,)\n"
     ]
    },
    {
     "data": {
      "image/png": "[encoded data removed]",
      "text/plain": [
       "<Figure size 432x288 with 1 Axes>"
      ]
     },
     "metadata": {
      "needs_background": "light"
     },
     "output_type": "display_data"
    },
    {
     "name": "stdout",
     "output_type": "stream",
     "text": [
      "Coefficient  [2.66117627e-08]\n",
      "Intercept  486.3525070844112\n"
     ]
    }
   ],
   "source": [
    "plt.scatter(fin_merge_df.PTax, fin_merge_df.Math)\n",
    "plt.xlabel('Local Property Taxes')\n",
    "plt.ylabel('Math')\n",
    "plt.show()\n",
    "\n",
    "X = fin_merge_df.PTax.values.reshape(-1, 1)\n",
    "y = fin_merge_df.Math\n",
    "model = LinearRegression()\n",
    "model.fit(X, y)\n",
    "\n",
    "y_pred = model.predict(X)\n",
    "print(y_pred.shape)\n",
    "\n",
    "plt.scatter(X, y)\n",
    "plt.xlabel('Local Property Taxes')\n",
    "plt.ylabel('Math')\n",
    "plt.plot(X, y_pred, color='red')\n",
    "plt.show()\n",
    "\n",
    "print(\"Coefficient \", model.coef_)\n",
    "print(\"Intercept \", model.intercept_)"
   ]
  },
  {
   "cell_type": "code",
   "execution_count": 31,
   "id": "ee7da294",
   "metadata": {},
   "outputs": [
    {
     "data": {
      "image/png": "[encoded data removed]",
      "text/plain": [
       "<Figure size 432x288 with 1 Axes>"
      ]
     },
     "metadata": {
      "needs_background": "light"
     },
     "output_type": "display_data"
    },
    {
     "name": "stdout",
     "output_type": "stream",
     "text": [
      "(472,)\n"
     ]
    },
    {
     "data": {
      "image/png": "[encoded data removed]",
      "text/plain": [
       "<Figure size 432x288 with 1 Axes>"
      ]
     },
     "metadata": {
      "needs_background": "light"
     },
     "output_type": "display_data"
    },
    {
     "name": "stdout",
     "output_type": "stream",
     "text": [
      "Coefficient  [1.57842715e-08]\n",
      "Intercept  497.5050493875069\n"
     ]
    }
   ],
   "source": [
    "plt.scatter(fin_merge_df.PTax, fin_merge_df.ELA)\n",
    "plt.xlabel('Local Property Taxes')\n",
    "plt.ylabel('ELA')\n",
    "plt.show()\n",
    "\n",
    "X = fin_merge_df.PTax.values.reshape(-1, 1)\n",
    "y = fin_merge_df.ELA\n",
    "model = LinearRegression()\n",
    "model.fit(X, y)\n",
    "\n",
    "y_pred = model.predict(X)\n",
    "print(y_pred.shape)\n",
    "\n",
    "plt.scatter(X, y)\n",
    "plt.xlabel('Local Property Taxes')\n",
    "plt.ylabel('ELA')\n",
    "plt.plot(X, y_pred, color='red')\n",
    "plt.show()\n",
    "\n",
    "print(\"Coefficient \", model.coef_)\n",
    "print(\"Intercept \", model.intercept_)"
   ]
  },
  {
   "cell_type": "code",
   "execution_count": 32,
   "id": "3f2e3920",
   "metadata": {},
   "outputs": [
    {
     "data": {
      "image/png": "[encoded data removed]",
      "text/plain": [
       "<Figure size 432x288 with 1 Axes>"
      ]
     },
     "metadata": {
      "needs_background": "light"
     },
     "output_type": "display_data"
    },
    {
     "name": "stdout",
     "output_type": "stream",
     "text": [
      "(472,)\n"
     ]
    },
    {
     "data": {
      "image/png": "[encoded data removed]",
      "text/plain": [
       "<Figure size 432x288 with 1 Axes>"
      ]
     },
     "metadata": {
      "needs_background": "light"
     },
     "output_type": "display_data"
    },
    {
     "name": "stdout",
     "output_type": "stream",
     "text": [
      "Coefficient  [-3.8825218e-08]\n",
      "Intercept  487.38987710898334\n"
     ]
    }
   ],
   "source": [
    "plt.scatter(fin_merge_df.StateAid, fin_merge_df.Math)\n",
    "plt.xlabel('General State Aid')\n",
    "plt.ylabel('Math')\n",
    "plt.show()\n",
    "\n",
    "X = fin_merge_df.StateAid.values.reshape(-1, 1)\n",
    "y = fin_merge_df.Math\n",
    "model = LinearRegression()\n",
    "model.fit(X, y)\n",
    "\n",
    "y_pred = model.predict(X)\n",
    "print(y_pred.shape)\n",
    "\n",
    "plt.scatter(X, y)\n",
    "plt.xlabel('General State Aid')\n",
    "plt.ylabel('Math')\n",
    "plt.plot(X, y_pred, color='red')\n",
    "plt.show()\n",
    "\n",
    "print(\"Coefficient \", model.coef_)\n",
    "print(\"Intercept \", model.intercept_)"
   ]
  },
  {
   "cell_type": "code",
   "execution_count": 33,
   "id": "def24793",
   "metadata": {},
   "outputs": [
    {
     "data": {
      "image/png": "[encoded data removed]",
      "text/plain": [
       "<Figure size 432x288 with 1 Axes>"
      ]
     },
     "metadata": {
      "needs_background": "light"
     },
     "output_type": "display_data"
    },
    {
     "name": "stdout",
     "output_type": "stream",
     "text": [
      "(472,)\n"
     ]
    },
    {
     "data": {
      "image/png": "[encoded data removed]",
      "text/plain": [
       "<Figure size 432x288 with 1 Axes>"
      ]
     },
     "metadata": {
      "needs_background": "light"
     },
     "output_type": "display_data"
    },
    {
     "name": "stdout",
     "output_type": "stream",
     "text": [
      "Coefficient  [-4.5849121e-08]\n",
      "Intercept  498.30343192555404\n"
     ]
    }
   ],
   "source": [
    "plt.scatter(fin_merge_df.StateAid, fin_merge_df.ELA)\n",
    "plt.xlabel('General State Aid')\n",
    "plt.ylabel('ELA')\n",
    "plt.show()\n",
    "\n",
    "X = fin_merge_df.StateAid.values.reshape(-1, 1)\n",
    "y = fin_merge_df.ELA\n",
    "model = LinearRegression()\n",
    "model.fit(X, y)\n",
    "\n",
    "y_pred = model.predict(X)\n",
    "print(y_pred.shape)\n",
    "\n",
    "plt.scatter(X, y)\n",
    "plt.xlabel('General State Aid')\n",
    "plt.ylabel('ELA')\n",
    "plt.plot(X, y_pred, color='red')\n",
    "plt.show()\n",
    "\n",
    "print(\"Coefficient \", model.coef_)\n",
    "print(\"Intercept \", model.intercept_)"
   ]
  },
  {
   "cell_type": "code",
   "execution_count": 37,
   "id": "7f0b3182",
   "metadata": {},
   "outputs": [
    {
     "data": {
      "image/png": "[encoded data removed]",
      "text/plain": [
       "<Figure size 432x288 with 1 Axes>"
      ]
     },
     "metadata": {
      "needs_background": "light"
     },
     "output_type": "display_data"
    },
    {
     "name": "stdout",
     "output_type": "stream",
     "text": [
      "(472,)\n"
     ]
    },
    {
     "data": {
      "image/png": "[encoded data removed]",
      "text/plain": [
       "<Figure size 432x288 with 1 Axes>"
      ]
     },
     "metadata": {
      "needs_background": "light"
     },
     "output_type": "display_data"
    },
    {
     "name": "stdout",
     "output_type": "stream",
     "text": [
      "Coefficient  [-2.85817633e-08]\n",
      "Intercept  487.1810817375806\n"
     ]
    }
   ],
   "source": [
    "plt.scatter(fin_merge_df.FedFund, fin_merge_df.Math)\n",
    "plt.xlabel('Federal Funding')\n",
    "plt.ylabel('Math')\n",
    "plt.show()\n",
    "\n",
    "X = fin_merge_df.FedFund.values.reshape(-1, 1)\n",
    "y = fin_merge_df.Math\n",
    "model = LinearRegression()\n",
    "model.fit(X, y)\n",
    "\n",
    "y_pred = model.predict(X)\n",
    "print(y_pred.shape)\n",
    "\n",
    "plt.scatter(X, y)\n",
    "plt.xlabel('Federal Funding')\n",
    "plt.ylabel('Math')\n",
    "plt.plot(X, y_pred, color='red')\n",
    "plt.show()\n",
    "\n",
    "print(\"Coefficient \", model.coef_)\n",
    "print(\"Intercept \", model.intercept_)"
   ]
  },
  {
   "cell_type": "code",
   "execution_count": 36,
   "id": "7a68592c",
   "metadata": {},
   "outputs": [
    {
     "data": {
      "image/png": "[encoded data removed]",
      "text/plain": [
       "<Figure size 432x288 with 1 Axes>"
      ]
     },
     "metadata": {
      "needs_background": "light"
     },
     "output_type": "display_data"
    },
    {
     "name": "stdout",
     "output_type": "stream",
     "text": [
      "(472,)\n"
     ]
    },
    {
     "data": {
      "image/png": "[encoded data removed]",
      "text/plain": [
       "<Figure size 432x288 with 1 Axes>"
      ]
     },
     "metadata": {
      "needs_background": "light"
     },
     "output_type": "display_data"
    },
    {
     "name": "stdout",
     "output_type": "stream",
     "text": [
      "Coefficient  [-3.90681731e-08]\n",
      "Intercept  498.0759619287971\n"
     ]
    }
   ],
   "source": [
    "plt.scatter(fin_merge_df.FedFund, fin_merge_df.ELA)\n",
    "plt.xlabel('Federal Funding')\n",
    "plt.ylabel('ELA')\n",
    "plt.show()\n",
    "\n",
    "X = fin_merge_df.FedFund.values.reshape(-1, 1)\n",
    "y = fin_merge_df.ELA\n",
    "model = LinearRegression()\n",
    "model.fit(X, y)\n",
    "\n",
    "y_pred = model.predict(X)\n",
    "print(y_pred.shape)\n",
    "\n",
    "plt.scatter(X, y)\n",
    "plt.xlabel('Federal Funding')\n",
    "plt.ylabel('ELA')\n",
    "plt.plot(X, y_pred, color='red')\n",
    "plt.show()\n",
    "\n",
    "print(\"Coefficient \", model.coef_)\n",
    "print(\"Intercept \", model.intercept_)"
   ]
  }
 ],
 "metadata": {
  "kernelspec": {
   "display_name": "mlenv",
   "language": "python",
   "name": "mlenv"
  },
  "language_info": {
   "codemirror_mode": {
    "name": "ipython",
    "version": 3
   },
   "file_extension": ".py",
   "mimetype": "text/x-python",
   "name": "python",
   "nbconvert_exporter": "python",
   "pygments_lexer": "ipython3",
   "version": "3.7.13"
  }
 },
 "nbformat": 4,
 "nbformat_minor": 5
}
