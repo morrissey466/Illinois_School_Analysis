{
 "cells": [
  {
   "cell_type": "code",
   "execution_count": 7,
   "id": "8eadaab9",
   "metadata": {},
   "outputs": [],
   "source": [
    "import pandas as pd"
   ]
  },
  {
   "cell_type": "code",
   "execution_count": 8,
   "id": "eca8e689",
   "metadata": {},
   "outputs": [
    {
     "data": {
      "text/html": [
       "<div>\n",
       "<style scoped>\n",
       "    .dataframe tbody tr th:only-of-type {\n",
       "        vertical-align: middle;\n",
       "    }\n",
       "\n",
       "    .dataframe tbody tr th {\n",
       "        vertical-align: top;\n",
       "    }\n",
       "\n",
       "    .dataframe thead th {\n",
       "        text-align: right;\n",
       "    }\n",
       "</style>\n",
       "<table border=\"1\" class=\"dataframe\">\n",
       "  <thead>\n",
       "    <tr style=\"text-align: right;\">\n",
       "      <th></th>\n",
       "      <th>RCDTS</th>\n",
       "      <th>Type</th>\n",
       "      <th>District</th>\n",
       "      <th>City</th>\n",
       "      <th>County</th>\n",
       "      <th>District Type</th>\n",
       "      <th>District Size</th>\n",
       "      <th>Student Enrollment - Total</th>\n",
       "      <th>Student Enrollment - Low Income %</th>\n",
       "      <th>Avg Class Size – All Grades</th>\n",
       "      <th>Avg Teaching Exp</th>\n",
       "      <th>Bachelor Degree</th>\n",
       "      <th>Masters Degree</th>\n",
       "      <th>Teacher Retention Rate</th>\n",
       "      <th>Teacher Avg Salary</th>\n",
       "      <th>Admin Avg Salary</th>\n",
       "    </tr>\n",
       "  </thead>\n",
       "  <tbody>\n",
       "    <tr>\n",
       "      <th>0</th>\n",
       "      <td>010010010260000</td>\n",
       "      <td>District</td>\n",
       "      <td>Payson CUSD 1</td>\n",
       "      <td>Payson</td>\n",
       "      <td>Adams</td>\n",
       "      <td>UNIT</td>\n",
       "      <td>MEDIUM</td>\n",
       "      <td>559.0</td>\n",
       "      <td>48.8</td>\n",
       "      <td>17.0</td>\n",
       "      <td>11.5</td>\n",
       "      <td>56.3</td>\n",
       "      <td>43.8</td>\n",
       "      <td>92.9</td>\n",
       "      <td>36085.63</td>\n",
       "      <td>72141.72</td>\n",
       "    </tr>\n",
       "    <tr>\n",
       "      <th>1</th>\n",
       "      <td>010010020260000</td>\n",
       "      <td>District</td>\n",
       "      <td>Liberty CUSD 2</td>\n",
       "      <td>Liberty</td>\n",
       "      <td>Adams</td>\n",
       "      <td>UNIT</td>\n",
       "      <td>MEDIUM</td>\n",
       "      <td>602.0</td>\n",
       "      <td>24.9</td>\n",
       "      <td>20.0</td>\n",
       "      <td>13.5</td>\n",
       "      <td>41.9</td>\n",
       "      <td>58.1</td>\n",
       "      <td>91.5</td>\n",
       "      <td>41534.22</td>\n",
       "      <td>83605.24</td>\n",
       "    </tr>\n",
       "    <tr>\n",
       "      <th>2</th>\n",
       "      <td>010010030260000</td>\n",
       "      <td>District</td>\n",
       "      <td>Central CUSD 3</td>\n",
       "      <td>Camp Point</td>\n",
       "      <td>Adams</td>\n",
       "      <td>UNIT</td>\n",
       "      <td>MEDIUM</td>\n",
       "      <td>874.0</td>\n",
       "      <td>46.7</td>\n",
       "      <td>19.0</td>\n",
       "      <td>12.5</td>\n",
       "      <td>42.9</td>\n",
       "      <td>57.1</td>\n",
       "      <td>81.3</td>\n",
       "      <td>47686.51</td>\n",
       "      <td>75068.50</td>\n",
       "    </tr>\n",
       "    <tr>\n",
       "      <th>3</th>\n",
       "      <td>010010040260000</td>\n",
       "      <td>District</td>\n",
       "      <td>CUSD 4</td>\n",
       "      <td>Mendon</td>\n",
       "      <td>Adams</td>\n",
       "      <td>UNIT</td>\n",
       "      <td>MEDIUM</td>\n",
       "      <td>674.0</td>\n",
       "      <td>20.2</td>\n",
       "      <td>18.0</td>\n",
       "      <td>14.1</td>\n",
       "      <td>61.3</td>\n",
       "      <td>38.7</td>\n",
       "      <td>89.7</td>\n",
       "      <td>40254.81</td>\n",
       "      <td>83692.00</td>\n",
       "    </tr>\n",
       "    <tr>\n",
       "      <th>4</th>\n",
       "      <td>010011720220000</td>\n",
       "      <td>District</td>\n",
       "      <td>Quincy SD 172</td>\n",
       "      <td>Quincy</td>\n",
       "      <td>Adams</td>\n",
       "      <td>UNIT</td>\n",
       "      <td>LARGE</td>\n",
       "      <td>6469.0</td>\n",
       "      <td>60.7</td>\n",
       "      <td>18.0</td>\n",
       "      <td>12.0</td>\n",
       "      <td>56.9</td>\n",
       "      <td>42.6</td>\n",
       "      <td>73.6</td>\n",
       "      <td>45089.41</td>\n",
       "      <td>82764.57</td>\n",
       "    </tr>\n",
       "    <tr>\n",
       "      <th>...</th>\n",
       "      <td>...</td>\n",
       "      <td>...</td>\n",
       "      <td>...</td>\n",
       "      <td>...</td>\n",
       "      <td>...</td>\n",
       "      <td>...</td>\n",
       "      <td>...</td>\n",
       "      <td>...</td>\n",
       "      <td>...</td>\n",
       "      <td>...</td>\n",
       "      <td>...</td>\n",
       "      <td>...</td>\n",
       "      <td>...</td>\n",
       "      <td>...</td>\n",
       "      <td>...</td>\n",
       "      <td>...</td>\n",
       "    </tr>\n",
       "    <tr>\n",
       "      <th>481</th>\n",
       "      <td>056099201U260000</td>\n",
       "      <td>District</td>\n",
       "      <td>Crete Monee CUSD 201U</td>\n",
       "      <td>Crete</td>\n",
       "      <td>Will</td>\n",
       "      <td>UNIT</td>\n",
       "      <td>LARGE</td>\n",
       "      <td>4893.0</td>\n",
       "      <td>68.5</td>\n",
       "      <td>21.0</td>\n",
       "      <td>11.7</td>\n",
       "      <td>39.3</td>\n",
       "      <td>60.7</td>\n",
       "      <td>82.3</td>\n",
       "      <td>59303.62</td>\n",
       "      <td>105027.16</td>\n",
       "    </tr>\n",
       "    <tr>\n",
       "      <th>482</th>\n",
       "      <td>056099207U260000</td>\n",
       "      <td>District</td>\n",
       "      <td>Peotone CUSD 207U</td>\n",
       "      <td>Peotone</td>\n",
       "      <td>Will</td>\n",
       "      <td>UNIT</td>\n",
       "      <td>MEDIUM</td>\n",
       "      <td>1478.0</td>\n",
       "      <td>20.6</td>\n",
       "      <td>18.0</td>\n",
       "      <td>13.9</td>\n",
       "      <td>55.2</td>\n",
       "      <td>43.8</td>\n",
       "      <td>80.6</td>\n",
       "      <td>45051.57</td>\n",
       "      <td>91263.46</td>\n",
       "    </tr>\n",
       "    <tr>\n",
       "      <th>483</th>\n",
       "      <td>056099209U260000</td>\n",
       "      <td>District</td>\n",
       "      <td>Wilmington CUSD 209U</td>\n",
       "      <td>Wilmington</td>\n",
       "      <td>Will</td>\n",
       "      <td>UNIT</td>\n",
       "      <td>MEDIUM</td>\n",
       "      <td>1355.0</td>\n",
       "      <td>42.0</td>\n",
       "      <td>20.0</td>\n",
       "      <td>11.9</td>\n",
       "      <td>47.9</td>\n",
       "      <td>49.9</td>\n",
       "      <td>88.6</td>\n",
       "      <td>47004.75</td>\n",
       "      <td>99781.38</td>\n",
       "    </tr>\n",
       "    <tr>\n",
       "      <th>484</th>\n",
       "      <td>056099255U260000</td>\n",
       "      <td>District</td>\n",
       "      <td>Reed Custer CUSD 255U</td>\n",
       "      <td>Braidwood</td>\n",
       "      <td>Will</td>\n",
       "      <td>UNIT</td>\n",
       "      <td>MEDIUM</td>\n",
       "      <td>1500.0</td>\n",
       "      <td>38.7</td>\n",
       "      <td>21.0</td>\n",
       "      <td>13.5</td>\n",
       "      <td>31.3</td>\n",
       "      <td>68.7</td>\n",
       "      <td>83.5</td>\n",
       "      <td>57410.56</td>\n",
       "      <td>107871.60</td>\n",
       "    </tr>\n",
       "    <tr>\n",
       "      <th>485</th>\n",
       "      <td>056099365U260000</td>\n",
       "      <td>District</td>\n",
       "      <td>Valley View CUSD 365U</td>\n",
       "      <td>Romeoville</td>\n",
       "      <td>Will</td>\n",
       "      <td>UNIT</td>\n",
       "      <td>LARGE</td>\n",
       "      <td>16826.0</td>\n",
       "      <td>62.4</td>\n",
       "      <td>21.0</td>\n",
       "      <td>11.8</td>\n",
       "      <td>26.8</td>\n",
       "      <td>73.0</td>\n",
       "      <td>86.2</td>\n",
       "      <td>63055.67</td>\n",
       "      <td>92895.94</td>\n",
       "    </tr>\n",
       "  </tbody>\n",
       "</table>\n",
       "<p>486 rows × 16 columns</p>\n",
       "</div>"
      ],
      "text/plain": [
       "                RCDTS      Type               District        City County  \\\n",
       "0     010010010260000  District          Payson CUSD 1      Payson  Adams   \n",
       "1     010010020260000  District         Liberty CUSD 2     Liberty  Adams   \n",
       "2     010010030260000  District         Central CUSD 3  Camp Point  Adams   \n",
       "3     010010040260000  District                 CUSD 4      Mendon  Adams   \n",
       "4     010011720220000  District          Quincy SD 172      Quincy  Adams   \n",
       "..                ...       ...                    ...         ...    ...   \n",
       "481  056099201U260000  District  Crete Monee CUSD 201U       Crete   Will   \n",
       "482  056099207U260000  District      Peotone CUSD 207U     Peotone   Will   \n",
       "483  056099209U260000  District   Wilmington CUSD 209U  Wilmington   Will   \n",
       "484  056099255U260000  District  Reed Custer CUSD 255U   Braidwood   Will   \n",
       "485  056099365U260000  District  Valley View CUSD 365U  Romeoville   Will   \n",
       "\n",
       "    District Type District Size  Student Enrollment - Total  \\\n",
       "0            UNIT        MEDIUM                       559.0   \n",
       "1            UNIT        MEDIUM                       602.0   \n",
       "2            UNIT        MEDIUM                       874.0   \n",
       "3            UNIT        MEDIUM                       674.0   \n",
       "4            UNIT         LARGE                      6469.0   \n",
       "..            ...           ...                         ...   \n",
       "481          UNIT         LARGE                      4893.0   \n",
       "482          UNIT        MEDIUM                      1478.0   \n",
       "483          UNIT        MEDIUM                      1355.0   \n",
       "484          UNIT        MEDIUM                      1500.0   \n",
       "485          UNIT         LARGE                     16826.0   \n",
       "\n",
       "     Student Enrollment - Low Income %  Avg Class Size – All Grades  \\\n",
       "0                                 48.8                         17.0   \n",
       "1                                 24.9                         20.0   \n",
       "2                                 46.7                         19.0   \n",
       "3                                 20.2                         18.0   \n",
       "4                                 60.7                         18.0   \n",
       "..                                 ...                          ...   \n",
       "481                               68.5                         21.0   \n",
       "482                               20.6                         18.0   \n",
       "483                               42.0                         20.0   \n",
       "484                               38.7                         21.0   \n",
       "485                               62.4                         21.0   \n",
       "\n",
       "     Avg Teaching Exp  Bachelor Degree  Masters Degree  \\\n",
       "0                11.5             56.3            43.8   \n",
       "1                13.5             41.9            58.1   \n",
       "2                12.5             42.9            57.1   \n",
       "3                14.1             61.3            38.7   \n",
       "4                12.0             56.9            42.6   \n",
       "..                ...              ...             ...   \n",
       "481              11.7             39.3            60.7   \n",
       "482              13.9             55.2            43.8   \n",
       "483              11.9             47.9            49.9   \n",
       "484              13.5             31.3            68.7   \n",
       "485              11.8             26.8            73.0   \n",
       "\n",
       "     Teacher Retention Rate  Teacher Avg Salary  Admin Avg Salary  \n",
       "0                      92.9            36085.63          72141.72  \n",
       "1                      91.5            41534.22          83605.24  \n",
       "2                      81.3            47686.51          75068.50  \n",
       "3                      89.7            40254.81          83692.00  \n",
       "4                      73.6            45089.41          82764.57  \n",
       "..                      ...                 ...               ...  \n",
       "481                    82.3            59303.62         105027.16  \n",
       "482                    80.6            45051.57          91263.46  \n",
       "483                    88.6            47004.75          99781.38  \n",
       "484                    83.5            57410.56         107871.60  \n",
       "485                    86.2            63055.67          92895.94  \n",
       "\n",
       "[486 rows x 16 columns]"
      ]
     },
     "execution_count": 8,
     "metadata": {},
     "output_type": "execute_result"
    }
   ],
   "source": [
    "district_df = pd.read_csv(\"clean_data/district_filtered.csv\")\n",
    "district_df"
   ]
  },
  {
   "cell_type": "code",
   "execution_count": 9,
   "id": "78478c6b",
   "metadata": {},
   "outputs": [
    {
     "data": {
      "text/html": [
       "<div>\n",
       "<style scoped>\n",
       "    .dataframe tbody tr th:only-of-type {\n",
       "        vertical-align: middle;\n",
       "    }\n",
       "\n",
       "    .dataframe tbody tr th {\n",
       "        vertical-align: top;\n",
       "    }\n",
       "\n",
       "    .dataframe thead th {\n",
       "        text-align: right;\n",
       "    }\n",
       "</style>\n",
       "<table border=\"1\" class=\"dataframe\">\n",
       "  <thead>\n",
       "    <tr style=\"text-align: right;\">\n",
       "      <th></th>\n",
       "      <th>RCDTS</th>\n",
       "      <th>Type</th>\n",
       "      <th>District</th>\n",
       "      <th>City</th>\n",
       "      <th>County</th>\n",
       "      <th>District Type</th>\n",
       "      <th>District Size</th>\n",
       "      <th>Enrollment</th>\n",
       "      <th>Student Enrollment - Low Income %</th>\n",
       "      <th>ClassSize</th>\n",
       "      <th>AvgTeachExp</th>\n",
       "      <th>BS</th>\n",
       "      <th>MS</th>\n",
       "      <th>TeachRetRate</th>\n",
       "      <th>Teacher Avg Salary</th>\n",
       "      <th>AvgSalary</th>\n",
       "    </tr>\n",
       "  </thead>\n",
       "  <tbody>\n",
       "    <tr>\n",
       "      <th>0</th>\n",
       "      <td>010010010260000</td>\n",
       "      <td>District</td>\n",
       "      <td>Payson CUSD 1</td>\n",
       "      <td>Payson</td>\n",
       "      <td>Adams</td>\n",
       "      <td>UNIT</td>\n",
       "      <td>MEDIUM</td>\n",
       "      <td>559.0</td>\n",
       "      <td>48.8</td>\n",
       "      <td>17.0</td>\n",
       "      <td>11.5</td>\n",
       "      <td>56.3</td>\n",
       "      <td>43.8</td>\n",
       "      <td>92.9</td>\n",
       "      <td>36085.63</td>\n",
       "      <td>72141.72</td>\n",
       "    </tr>\n",
       "    <tr>\n",
       "      <th>1</th>\n",
       "      <td>010010020260000</td>\n",
       "      <td>District</td>\n",
       "      <td>Liberty CUSD 2</td>\n",
       "      <td>Liberty</td>\n",
       "      <td>Adams</td>\n",
       "      <td>UNIT</td>\n",
       "      <td>MEDIUM</td>\n",
       "      <td>602.0</td>\n",
       "      <td>24.9</td>\n",
       "      <td>20.0</td>\n",
       "      <td>13.5</td>\n",
       "      <td>41.9</td>\n",
       "      <td>58.1</td>\n",
       "      <td>91.5</td>\n",
       "      <td>41534.22</td>\n",
       "      <td>83605.24</td>\n",
       "    </tr>\n",
       "    <tr>\n",
       "      <th>2</th>\n",
       "      <td>010010030260000</td>\n",
       "      <td>District</td>\n",
       "      <td>Central CUSD 3</td>\n",
       "      <td>Camp Point</td>\n",
       "      <td>Adams</td>\n",
       "      <td>UNIT</td>\n",
       "      <td>MEDIUM</td>\n",
       "      <td>874.0</td>\n",
       "      <td>46.7</td>\n",
       "      <td>19.0</td>\n",
       "      <td>12.5</td>\n",
       "      <td>42.9</td>\n",
       "      <td>57.1</td>\n",
       "      <td>81.3</td>\n",
       "      <td>47686.51</td>\n",
       "      <td>75068.50</td>\n",
       "    </tr>\n",
       "    <tr>\n",
       "      <th>3</th>\n",
       "      <td>010010040260000</td>\n",
       "      <td>District</td>\n",
       "      <td>CUSD 4</td>\n",
       "      <td>Mendon</td>\n",
       "      <td>Adams</td>\n",
       "      <td>UNIT</td>\n",
       "      <td>MEDIUM</td>\n",
       "      <td>674.0</td>\n",
       "      <td>20.2</td>\n",
       "      <td>18.0</td>\n",
       "      <td>14.1</td>\n",
       "      <td>61.3</td>\n",
       "      <td>38.7</td>\n",
       "      <td>89.7</td>\n",
       "      <td>40254.81</td>\n",
       "      <td>83692.00</td>\n",
       "    </tr>\n",
       "    <tr>\n",
       "      <th>4</th>\n",
       "      <td>010011720220000</td>\n",
       "      <td>District</td>\n",
       "      <td>Quincy SD 172</td>\n",
       "      <td>Quincy</td>\n",
       "      <td>Adams</td>\n",
       "      <td>UNIT</td>\n",
       "      <td>LARGE</td>\n",
       "      <td>6469.0</td>\n",
       "      <td>60.7</td>\n",
       "      <td>18.0</td>\n",
       "      <td>12.0</td>\n",
       "      <td>56.9</td>\n",
       "      <td>42.6</td>\n",
       "      <td>73.6</td>\n",
       "      <td>45089.41</td>\n",
       "      <td>82764.57</td>\n",
       "    </tr>\n",
       "    <tr>\n",
       "      <th>...</th>\n",
       "      <td>...</td>\n",
       "      <td>...</td>\n",
       "      <td>...</td>\n",
       "      <td>...</td>\n",
       "      <td>...</td>\n",
       "      <td>...</td>\n",
       "      <td>...</td>\n",
       "      <td>...</td>\n",
       "      <td>...</td>\n",
       "      <td>...</td>\n",
       "      <td>...</td>\n",
       "      <td>...</td>\n",
       "      <td>...</td>\n",
       "      <td>...</td>\n",
       "      <td>...</td>\n",
       "      <td>...</td>\n",
       "    </tr>\n",
       "    <tr>\n",
       "      <th>481</th>\n",
       "      <td>056099201U260000</td>\n",
       "      <td>District</td>\n",
       "      <td>Crete Monee CUSD 201U</td>\n",
       "      <td>Crete</td>\n",
       "      <td>Will</td>\n",
       "      <td>UNIT</td>\n",
       "      <td>LARGE</td>\n",
       "      <td>4893.0</td>\n",
       "      <td>68.5</td>\n",
       "      <td>21.0</td>\n",
       "      <td>11.7</td>\n",
       "      <td>39.3</td>\n",
       "      <td>60.7</td>\n",
       "      <td>82.3</td>\n",
       "      <td>59303.62</td>\n",
       "      <td>105027.16</td>\n",
       "    </tr>\n",
       "    <tr>\n",
       "      <th>482</th>\n",
       "      <td>056099207U260000</td>\n",
       "      <td>District</td>\n",
       "      <td>Peotone CUSD 207U</td>\n",
       "      <td>Peotone</td>\n",
       "      <td>Will</td>\n",
       "      <td>UNIT</td>\n",
       "      <td>MEDIUM</td>\n",
       "      <td>1478.0</td>\n",
       "      <td>20.6</td>\n",
       "      <td>18.0</td>\n",
       "      <td>13.9</td>\n",
       "      <td>55.2</td>\n",
       "      <td>43.8</td>\n",
       "      <td>80.6</td>\n",
       "      <td>45051.57</td>\n",
       "      <td>91263.46</td>\n",
       "    </tr>\n",
       "    <tr>\n",
       "      <th>483</th>\n",
       "      <td>056099209U260000</td>\n",
       "      <td>District</td>\n",
       "      <td>Wilmington CUSD 209U</td>\n",
       "      <td>Wilmington</td>\n",
       "      <td>Will</td>\n",
       "      <td>UNIT</td>\n",
       "      <td>MEDIUM</td>\n",
       "      <td>1355.0</td>\n",
       "      <td>42.0</td>\n",
       "      <td>20.0</td>\n",
       "      <td>11.9</td>\n",
       "      <td>47.9</td>\n",
       "      <td>49.9</td>\n",
       "      <td>88.6</td>\n",
       "      <td>47004.75</td>\n",
       "      <td>99781.38</td>\n",
       "    </tr>\n",
       "    <tr>\n",
       "      <th>484</th>\n",
       "      <td>056099255U260000</td>\n",
       "      <td>District</td>\n",
       "      <td>Reed Custer CUSD 255U</td>\n",
       "      <td>Braidwood</td>\n",
       "      <td>Will</td>\n",
       "      <td>UNIT</td>\n",
       "      <td>MEDIUM</td>\n",
       "      <td>1500.0</td>\n",
       "      <td>38.7</td>\n",
       "      <td>21.0</td>\n",
       "      <td>13.5</td>\n",
       "      <td>31.3</td>\n",
       "      <td>68.7</td>\n",
       "      <td>83.5</td>\n",
       "      <td>57410.56</td>\n",
       "      <td>107871.60</td>\n",
       "    </tr>\n",
       "    <tr>\n",
       "      <th>485</th>\n",
       "      <td>056099365U260000</td>\n",
       "      <td>District</td>\n",
       "      <td>Valley View CUSD 365U</td>\n",
       "      <td>Romeoville</td>\n",
       "      <td>Will</td>\n",
       "      <td>UNIT</td>\n",
       "      <td>LARGE</td>\n",
       "      <td>16826.0</td>\n",
       "      <td>62.4</td>\n",
       "      <td>21.0</td>\n",
       "      <td>11.8</td>\n",
       "      <td>26.8</td>\n",
       "      <td>73.0</td>\n",
       "      <td>86.2</td>\n",
       "      <td>63055.67</td>\n",
       "      <td>92895.94</td>\n",
       "    </tr>\n",
       "  </tbody>\n",
       "</table>\n",
       "<p>486 rows × 16 columns</p>\n",
       "</div>"
      ],
      "text/plain": [
       "                RCDTS      Type               District        City County  \\\n",
       "0     010010010260000  District          Payson CUSD 1      Payson  Adams   \n",
       "1     010010020260000  District         Liberty CUSD 2     Liberty  Adams   \n",
       "2     010010030260000  District         Central CUSD 3  Camp Point  Adams   \n",
       "3     010010040260000  District                 CUSD 4      Mendon  Adams   \n",
       "4     010011720220000  District          Quincy SD 172      Quincy  Adams   \n",
       "..                ...       ...                    ...         ...    ...   \n",
       "481  056099201U260000  District  Crete Monee CUSD 201U       Crete   Will   \n",
       "482  056099207U260000  District      Peotone CUSD 207U     Peotone   Will   \n",
       "483  056099209U260000  District   Wilmington CUSD 209U  Wilmington   Will   \n",
       "484  056099255U260000  District  Reed Custer CUSD 255U   Braidwood   Will   \n",
       "485  056099365U260000  District  Valley View CUSD 365U  Romeoville   Will   \n",
       "\n",
       "    District Type District Size  Enrollment  \\\n",
       "0            UNIT        MEDIUM       559.0   \n",
       "1            UNIT        MEDIUM       602.0   \n",
       "2            UNIT        MEDIUM       874.0   \n",
       "3            UNIT        MEDIUM       674.0   \n",
       "4            UNIT         LARGE      6469.0   \n",
       "..            ...           ...         ...   \n",
       "481          UNIT         LARGE      4893.0   \n",
       "482          UNIT        MEDIUM      1478.0   \n",
       "483          UNIT        MEDIUM      1355.0   \n",
       "484          UNIT        MEDIUM      1500.0   \n",
       "485          UNIT         LARGE     16826.0   \n",
       "\n",
       "     Student Enrollment - Low Income %  ClassSize  AvgTeachExp    BS    MS  \\\n",
       "0                                 48.8       17.0         11.5  56.3  43.8   \n",
       "1                                 24.9       20.0         13.5  41.9  58.1   \n",
       "2                                 46.7       19.0         12.5  42.9  57.1   \n",
       "3                                 20.2       18.0         14.1  61.3  38.7   \n",
       "4                                 60.7       18.0         12.0  56.9  42.6   \n",
       "..                                 ...        ...          ...   ...   ...   \n",
       "481                               68.5       21.0         11.7  39.3  60.7   \n",
       "482                               20.6       18.0         13.9  55.2  43.8   \n",
       "483                               42.0       20.0         11.9  47.9  49.9   \n",
       "484                               38.7       21.0         13.5  31.3  68.7   \n",
       "485                               62.4       21.0         11.8  26.8  73.0   \n",
       "\n",
       "     TeachRetRate  Teacher Avg Salary  AvgSalary  \n",
       "0            92.9            36085.63   72141.72  \n",
       "1            91.5            41534.22   83605.24  \n",
       "2            81.3            47686.51   75068.50  \n",
       "3            89.7            40254.81   83692.00  \n",
       "4            73.6            45089.41   82764.57  \n",
       "..            ...                 ...        ...  \n",
       "481          82.3            59303.62  105027.16  \n",
       "482          80.6            45051.57   91263.46  \n",
       "483          88.6            47004.75   99781.38  \n",
       "484          83.5            57410.56  107871.60  \n",
       "485          86.2            63055.67   92895.94  \n",
       "\n",
       "[486 rows x 16 columns]"
      ]
     },
     "execution_count": 9,
     "metadata": {},
     "output_type": "execute_result"
    }
   ],
   "source": [
    "district_df.rename(columns = {'Student Enrollment - Total':'Enrollment'}, inplace = True)\n",
    "district_df.rename(columns = {'Avg Class Size – All Grades':'ClassSize'}, inplace = True)\n",
    "district_df.rename(columns = {'Avg Teaching Exp':'AvgTeachExp'}, inplace = True)\n",
    "district_df.rename(columns = {'Bachelor Degree':'BS'}, inplace = True)\n",
    "district_df.rename(columns = {'Masters Degree':'MS'}, inplace = True)\n",
    "district_df.rename(columns = {'Teacher Retention Rate':'TeachRetRate'}, inplace = True)\n",
    "district_df.rename(columns = {'Admin Avg Salary':'AvgSalary'}, inplace = True)\n",
    "district_df"
   ]
  },
  {
   "cell_type": "code",
   "execution_count": 10,
   "id": "220f5396",
   "metadata": {},
   "outputs": [
    {
     "data": {
      "text/html": [
       "<div>\n",
       "<style scoped>\n",
       "    .dataframe tbody tr th:only-of-type {\n",
       "        vertical-align: middle;\n",
       "    }\n",
       "\n",
       "    .dataframe tbody tr th {\n",
       "        vertical-align: top;\n",
       "    }\n",
       "\n",
       "    .dataframe thead th {\n",
       "        text-align: right;\n",
       "    }\n",
       "</style>\n",
       "<table border=\"1\" class=\"dataframe\">\n",
       "  <thead>\n",
       "    <tr style=\"text-align: right;\">\n",
       "      <th></th>\n",
       "      <th>RCDTS</th>\n",
       "      <th>County</th>\n",
       "      <th>Dist #</th>\n",
       "      <th>District Name/ School Name</th>\n",
       "      <th>City</th>\n",
       "      <th>ELA</th>\n",
       "      <th>Math</th>\n",
       "    </tr>\n",
       "  </thead>\n",
       "  <tbody>\n",
       "    <tr>\n",
       "      <th>0</th>\n",
       "      <td>010010010260000</td>\n",
       "      <td>Adams</td>\n",
       "      <td>10</td>\n",
       "      <td>Payson CUSD 1</td>\n",
       "      <td>Payson</td>\n",
       "      <td>524.3</td>\n",
       "      <td>489.1</td>\n",
       "    </tr>\n",
       "    <tr>\n",
       "      <th>1</th>\n",
       "      <td>010010020260000</td>\n",
       "      <td>Adams</td>\n",
       "      <td>20</td>\n",
       "      <td>Liberty CUSD 2</td>\n",
       "      <td>Liberty</td>\n",
       "      <td>500.9</td>\n",
       "      <td>485.4</td>\n",
       "    </tr>\n",
       "    <tr>\n",
       "      <th>2</th>\n",
       "      <td>010010030260000</td>\n",
       "      <td>Adams</td>\n",
       "      <td>30</td>\n",
       "      <td>Central CUSD 3</td>\n",
       "      <td>Camp Point</td>\n",
       "      <td>490.6</td>\n",
       "      <td>488.3</td>\n",
       "    </tr>\n",
       "    <tr>\n",
       "      <th>3</th>\n",
       "      <td>010010040260000</td>\n",
       "      <td>Adams</td>\n",
       "      <td>40</td>\n",
       "      <td>CUSD 4</td>\n",
       "      <td>Mendon</td>\n",
       "      <td>505.9</td>\n",
       "      <td>485.0</td>\n",
       "    </tr>\n",
       "    <tr>\n",
       "      <th>4</th>\n",
       "      <td>010011720220000</td>\n",
       "      <td>Adams</td>\n",
       "      <td>1720</td>\n",
       "      <td>Quincy SD 172</td>\n",
       "      <td>Quincy</td>\n",
       "      <td>489.8</td>\n",
       "      <td>473.6</td>\n",
       "    </tr>\n",
       "    <tr>\n",
       "      <th>...</th>\n",
       "      <td>...</td>\n",
       "      <td>...</td>\n",
       "      <td>...</td>\n",
       "      <td>...</td>\n",
       "      <td>...</td>\n",
       "      <td>...</td>\n",
       "      <td>...</td>\n",
       "    </tr>\n",
       "    <tr>\n",
       "      <th>482</th>\n",
       "      <td>56099201U260000</td>\n",
       "      <td>Will</td>\n",
       "      <td>201U</td>\n",
       "      <td>Crete Monee CUSD 201U</td>\n",
       "      <td>Crete</td>\n",
       "      <td>479.9</td>\n",
       "      <td>444.4</td>\n",
       "    </tr>\n",
       "    <tr>\n",
       "      <th>483</th>\n",
       "      <td>56099207U260000</td>\n",
       "      <td>Will</td>\n",
       "      <td>207U</td>\n",
       "      <td>Peotone CUSD 207U</td>\n",
       "      <td>Peotone</td>\n",
       "      <td>513.0</td>\n",
       "      <td>492.7</td>\n",
       "    </tr>\n",
       "    <tr>\n",
       "      <th>484</th>\n",
       "      <td>56099209U260000</td>\n",
       "      <td>Will</td>\n",
       "      <td>209U</td>\n",
       "      <td>Wilmington CUSD 209U</td>\n",
       "      <td>Wilmington</td>\n",
       "      <td>480.5</td>\n",
       "      <td>458.4</td>\n",
       "    </tr>\n",
       "    <tr>\n",
       "      <th>485</th>\n",
       "      <td>56099255U260000</td>\n",
       "      <td>Will</td>\n",
       "      <td>255U</td>\n",
       "      <td>Reed Custer CUSD 255U</td>\n",
       "      <td>Braidwood</td>\n",
       "      <td>479.1</td>\n",
       "      <td>483.8</td>\n",
       "    </tr>\n",
       "    <tr>\n",
       "      <th>486</th>\n",
       "      <td>56099365U260000</td>\n",
       "      <td>Will</td>\n",
       "      <td>365U</td>\n",
       "      <td>Valley View CUSD 365U</td>\n",
       "      <td>Romeoville</td>\n",
       "      <td>490.3</td>\n",
       "      <td>489.1</td>\n",
       "    </tr>\n",
       "  </tbody>\n",
       "</table>\n",
       "<p>487 rows × 7 columns</p>\n",
       "</div>"
      ],
      "text/plain": [
       "               RCDTS County  Dist #  District Name/ School Name        City  \\\n",
       "0    010010010260000   Adams      10              Payson CUSD 1      Payson   \n",
       "1    010010020260000   Adams      20             Liberty CUSD 2     Liberty   \n",
       "2    010010030260000   Adams      30             Central CUSD 3  Camp Point   \n",
       "3    010010040260000   Adams      40                     CUSD 4      Mendon   \n",
       "4    010011720220000   Adams    1720              Quincy SD 172      Quincy   \n",
       "..               ...     ...     ...                        ...         ...   \n",
       "482  56099201U260000    Will    201U      Crete Monee CUSD 201U       Crete   \n",
       "483  56099207U260000    Will    207U          Peotone CUSD 207U     Peotone   \n",
       "484  56099209U260000    Will    209U       Wilmington CUSD 209U  Wilmington   \n",
       "485  56099255U260000    Will    255U      Reed Custer CUSD 255U   Braidwood   \n",
       "486  56099365U260000    Will    365U      Valley View CUSD 365U  Romeoville   \n",
       "\n",
       "       ELA   Math  \n",
       "0    524.3  489.1  \n",
       "1    500.9  485.4  \n",
       "2    490.6  488.3  \n",
       "3    505.9  485.0  \n",
       "4    489.8  473.6  \n",
       "..     ...    ...  \n",
       "482  479.9  444.4  \n",
       "483  513.0  492.7  \n",
       "484  480.5  458.4  \n",
       "485  479.1  483.8  \n",
       "486  490.3  489.1  \n",
       "\n",
       "[487 rows x 7 columns]"
      ]
     },
     "execution_count": 10,
     "metadata": {},
     "output_type": "execute_result"
    }
   ],
   "source": [
    "scores_df = pd.read_csv(\"clean_data/ELA and Math Districts.csv\")\n",
    "scores_df"
   ]
  },
  {
   "cell_type": "code",
   "execution_count": 11,
   "id": "e20c5db7",
   "metadata": {},
   "outputs": [
    {
     "data": {
      "text/html": [
       "<div>\n",
       "<style scoped>\n",
       "    .dataframe tbody tr th:only-of-type {\n",
       "        vertical-align: middle;\n",
       "    }\n",
       "\n",
       "    .dataframe tbody tr th {\n",
       "        vertical-align: top;\n",
       "    }\n",
       "\n",
       "    .dataframe thead th {\n",
       "        text-align: right;\n",
       "    }\n",
       "</style>\n",
       "<table border=\"1\" class=\"dataframe\">\n",
       "  <thead>\n",
       "    <tr style=\"text-align: right;\">\n",
       "      <th></th>\n",
       "      <th>RCDTS</th>\n",
       "      <th>Type</th>\n",
       "      <th>District</th>\n",
       "      <th>City_x</th>\n",
       "      <th>County</th>\n",
       "      <th>District Type</th>\n",
       "      <th>District Size</th>\n",
       "      <th>Enrollment</th>\n",
       "      <th>Student Enrollment - Low Income %</th>\n",
       "      <th>ClassSize</th>\n",
       "      <th>...</th>\n",
       "      <th>MS</th>\n",
       "      <th>TeachRetRate</th>\n",
       "      <th>Teacher Avg Salary</th>\n",
       "      <th>AvgSalary</th>\n",
       "      <th>County</th>\n",
       "      <th>Dist #</th>\n",
       "      <th>District Name/ School Name</th>\n",
       "      <th>City_y</th>\n",
       "      <th>ELA</th>\n",
       "      <th>Math</th>\n",
       "    </tr>\n",
       "  </thead>\n",
       "  <tbody>\n",
       "    <tr>\n",
       "      <th>0</th>\n",
       "      <td>010010010260000</td>\n",
       "      <td>District</td>\n",
       "      <td>Payson CUSD 1</td>\n",
       "      <td>Payson</td>\n",
       "      <td>Adams</td>\n",
       "      <td>UNIT</td>\n",
       "      <td>MEDIUM</td>\n",
       "      <td>559.0</td>\n",
       "      <td>48.8</td>\n",
       "      <td>17.0</td>\n",
       "      <td>...</td>\n",
       "      <td>43.8</td>\n",
       "      <td>92.9</td>\n",
       "      <td>36085.63</td>\n",
       "      <td>72141.72</td>\n",
       "      <td>Adams</td>\n",
       "      <td>10</td>\n",
       "      <td>Payson CUSD 1</td>\n",
       "      <td>Payson</td>\n",
       "      <td>524.3</td>\n",
       "      <td>489.1</td>\n",
       "    </tr>\n",
       "    <tr>\n",
       "      <th>1</th>\n",
       "      <td>010010020260000</td>\n",
       "      <td>District</td>\n",
       "      <td>Liberty CUSD 2</td>\n",
       "      <td>Liberty</td>\n",
       "      <td>Adams</td>\n",
       "      <td>UNIT</td>\n",
       "      <td>MEDIUM</td>\n",
       "      <td>602.0</td>\n",
       "      <td>24.9</td>\n",
       "      <td>20.0</td>\n",
       "      <td>...</td>\n",
       "      <td>58.1</td>\n",
       "      <td>91.5</td>\n",
       "      <td>41534.22</td>\n",
       "      <td>83605.24</td>\n",
       "      <td>Adams</td>\n",
       "      <td>20</td>\n",
       "      <td>Liberty CUSD 2</td>\n",
       "      <td>Liberty</td>\n",
       "      <td>500.9</td>\n",
       "      <td>485.4</td>\n",
       "    </tr>\n",
       "    <tr>\n",
       "      <th>2</th>\n",
       "      <td>010010030260000</td>\n",
       "      <td>District</td>\n",
       "      <td>Central CUSD 3</td>\n",
       "      <td>Camp Point</td>\n",
       "      <td>Adams</td>\n",
       "      <td>UNIT</td>\n",
       "      <td>MEDIUM</td>\n",
       "      <td>874.0</td>\n",
       "      <td>46.7</td>\n",
       "      <td>19.0</td>\n",
       "      <td>...</td>\n",
       "      <td>57.1</td>\n",
       "      <td>81.3</td>\n",
       "      <td>47686.51</td>\n",
       "      <td>75068.50</td>\n",
       "      <td>Adams</td>\n",
       "      <td>30</td>\n",
       "      <td>Central CUSD 3</td>\n",
       "      <td>Camp Point</td>\n",
       "      <td>490.6</td>\n",
       "      <td>488.3</td>\n",
       "    </tr>\n",
       "    <tr>\n",
       "      <th>3</th>\n",
       "      <td>010010040260000</td>\n",
       "      <td>District</td>\n",
       "      <td>CUSD 4</td>\n",
       "      <td>Mendon</td>\n",
       "      <td>Adams</td>\n",
       "      <td>UNIT</td>\n",
       "      <td>MEDIUM</td>\n",
       "      <td>674.0</td>\n",
       "      <td>20.2</td>\n",
       "      <td>18.0</td>\n",
       "      <td>...</td>\n",
       "      <td>38.7</td>\n",
       "      <td>89.7</td>\n",
       "      <td>40254.81</td>\n",
       "      <td>83692.00</td>\n",
       "      <td>Adams</td>\n",
       "      <td>40</td>\n",
       "      <td>CUSD 4</td>\n",
       "      <td>Mendon</td>\n",
       "      <td>505.9</td>\n",
       "      <td>485.0</td>\n",
       "    </tr>\n",
       "    <tr>\n",
       "      <th>4</th>\n",
       "      <td>010011720220000</td>\n",
       "      <td>District</td>\n",
       "      <td>Quincy SD 172</td>\n",
       "      <td>Quincy</td>\n",
       "      <td>Adams</td>\n",
       "      <td>UNIT</td>\n",
       "      <td>LARGE</td>\n",
       "      <td>6469.0</td>\n",
       "      <td>60.7</td>\n",
       "      <td>18.0</td>\n",
       "      <td>...</td>\n",
       "      <td>42.6</td>\n",
       "      <td>73.6</td>\n",
       "      <td>45089.41</td>\n",
       "      <td>82764.57</td>\n",
       "      <td>Adams</td>\n",
       "      <td>1720</td>\n",
       "      <td>Quincy SD 172</td>\n",
       "      <td>Quincy</td>\n",
       "      <td>489.8</td>\n",
       "      <td>473.6</td>\n",
       "    </tr>\n",
       "    <tr>\n",
       "      <th>...</th>\n",
       "      <td>...</td>\n",
       "      <td>...</td>\n",
       "      <td>...</td>\n",
       "      <td>...</td>\n",
       "      <td>...</td>\n",
       "      <td>...</td>\n",
       "      <td>...</td>\n",
       "      <td>...</td>\n",
       "      <td>...</td>\n",
       "      <td>...</td>\n",
       "      <td>...</td>\n",
       "      <td>...</td>\n",
       "      <td>...</td>\n",
       "      <td>...</td>\n",
       "      <td>...</td>\n",
       "      <td>...</td>\n",
       "      <td>...</td>\n",
       "      <td>...</td>\n",
       "      <td>...</td>\n",
       "      <td>...</td>\n",
       "      <td>...</td>\n",
       "    </tr>\n",
       "    <tr>\n",
       "      <th>97</th>\n",
       "      <td>090101160220000</td>\n",
       "      <td>District</td>\n",
       "      <td>Urbana SD 116</td>\n",
       "      <td>Urbana</td>\n",
       "      <td>Champaign</td>\n",
       "      <td>UNIT</td>\n",
       "      <td>LARGE</td>\n",
       "      <td>4590.0</td>\n",
       "      <td>70.4</td>\n",
       "      <td>17.0</td>\n",
       "      <td>...</td>\n",
       "      <td>50.2</td>\n",
       "      <td>81.5</td>\n",
       "      <td>53481.51</td>\n",
       "      <td>101981.41</td>\n",
       "      <td>Champaign</td>\n",
       "      <td>1160</td>\n",
       "      <td>Urbana SD 116</td>\n",
       "      <td>Urbana</td>\n",
       "      <td>485.2</td>\n",
       "      <td>456.7</td>\n",
       "    </tr>\n",
       "    <tr>\n",
       "      <th>98</th>\n",
       "      <td>090101930170000</td>\n",
       "      <td>District</td>\n",
       "      <td>Rantoul Township HSD 193</td>\n",
       "      <td>Rantoul</td>\n",
       "      <td>Champaign</td>\n",
       "      <td>HIGH SCHOOL</td>\n",
       "      <td>MEDIUM</td>\n",
       "      <td>753.0</td>\n",
       "      <td>67.1</td>\n",
       "      <td>16.0</td>\n",
       "      <td>...</td>\n",
       "      <td>46.6</td>\n",
       "      <td>81.7</td>\n",
       "      <td>46723.63</td>\n",
       "      <td>86848.35</td>\n",
       "      <td>Champaign</td>\n",
       "      <td>1930</td>\n",
       "      <td>Rantoul Township HSD 193</td>\n",
       "      <td>Rantoul</td>\n",
       "      <td>450.8</td>\n",
       "      <td>435.8</td>\n",
       "    </tr>\n",
       "    <tr>\n",
       "      <th>99</th>\n",
       "      <td>090103050160000</td>\n",
       "      <td>District</td>\n",
       "      <td>St Joseph Ogden CHSD 305</td>\n",
       "      <td>Saint Joseph</td>\n",
       "      <td>Champaign</td>\n",
       "      <td>HIGH SCHOOL</td>\n",
       "      <td>SMALL</td>\n",
       "      <td>468.0</td>\n",
       "      <td>6.6</td>\n",
       "      <td>20.0</td>\n",
       "      <td>...</td>\n",
       "      <td>51.8</td>\n",
       "      <td>93.1</td>\n",
       "      <td>43630.74</td>\n",
       "      <td>98092.33</td>\n",
       "      <td>Champaign</td>\n",
       "      <td>3050</td>\n",
       "      <td>St Joseph Ogden CHSD 305</td>\n",
       "      <td>Saint Joseph</td>\n",
       "      <td>546.3</td>\n",
       "      <td>563.7</td>\n",
       "    </tr>\n",
       "    <tr>\n",
       "      <th>100</th>\n",
       "      <td>090270050260000</td>\n",
       "      <td>District</td>\n",
       "      <td>Gibson City-Melvin-Sibley CUSD 5</td>\n",
       "      <td>Gibson City</td>\n",
       "      <td>Ford</td>\n",
       "      <td>UNIT</td>\n",
       "      <td>MEDIUM</td>\n",
       "      <td>1010.0</td>\n",
       "      <td>37.8</td>\n",
       "      <td>15.0</td>\n",
       "      <td>...</td>\n",
       "      <td>38.1</td>\n",
       "      <td>89.4</td>\n",
       "      <td>50052.04</td>\n",
       "      <td>110113.51</td>\n",
       "      <td>Ford</td>\n",
       "      <td>50</td>\n",
       "      <td>Gibson City-Melvin-Sibley CUSD 5</td>\n",
       "      <td>Gibson City</td>\n",
       "      <td>543.2</td>\n",
       "      <td>526.7</td>\n",
       "    </tr>\n",
       "    <tr>\n",
       "      <th>101</th>\n",
       "      <td>090270100260000</td>\n",
       "      <td>District</td>\n",
       "      <td>Paxton-Buckley-Loda CUD 10</td>\n",
       "      <td>Paxton</td>\n",
       "      <td>Ford</td>\n",
       "      <td>UNIT</td>\n",
       "      <td>MEDIUM</td>\n",
       "      <td>1356.0</td>\n",
       "      <td>47.3</td>\n",
       "      <td>16.0</td>\n",
       "      <td>...</td>\n",
       "      <td>48.5</td>\n",
       "      <td>86.0</td>\n",
       "      <td>44148.64</td>\n",
       "      <td>96122.29</td>\n",
       "      <td>Ford</td>\n",
       "      <td>100</td>\n",
       "      <td>Paxton-Buckley-Loda CUD 10</td>\n",
       "      <td>Paxton</td>\n",
       "      <td>501.2</td>\n",
       "      <td>509.9</td>\n",
       "    </tr>\n",
       "  </tbody>\n",
       "</table>\n",
       "<p>102 rows × 22 columns</p>\n",
       "</div>"
      ],
      "text/plain": [
       "               RCDTS      Type                          District  \\\n",
       "0    010010010260000  District                     Payson CUSD 1   \n",
       "1    010010020260000  District                    Liberty CUSD 2   \n",
       "2    010010030260000  District                    Central CUSD 3   \n",
       "3    010010040260000  District                            CUSD 4   \n",
       "4    010011720220000  District                     Quincy SD 172   \n",
       "..               ...       ...                               ...   \n",
       "97   090101160220000  District                     Urbana SD 116   \n",
       "98   090101930170000  District          Rantoul Township HSD 193   \n",
       "99   090103050160000  District          St Joseph Ogden CHSD 305   \n",
       "100  090270050260000  District  Gibson City-Melvin-Sibley CUSD 5   \n",
       "101  090270100260000  District        Paxton-Buckley-Loda CUD 10   \n",
       "\n",
       "           City_x     County District Type District Size  Enrollment  \\\n",
       "0          Payson      Adams          UNIT        MEDIUM       559.0   \n",
       "1         Liberty      Adams          UNIT        MEDIUM       602.0   \n",
       "2      Camp Point      Adams          UNIT        MEDIUM       874.0   \n",
       "3          Mendon      Adams          UNIT        MEDIUM       674.0   \n",
       "4          Quincy      Adams          UNIT         LARGE      6469.0   \n",
       "..            ...        ...           ...           ...         ...   \n",
       "97         Urbana  Champaign          UNIT         LARGE      4590.0   \n",
       "98        Rantoul  Champaign   HIGH SCHOOL        MEDIUM       753.0   \n",
       "99   Saint Joseph  Champaign   HIGH SCHOOL         SMALL       468.0   \n",
       "100   Gibson City       Ford          UNIT        MEDIUM      1010.0   \n",
       "101        Paxton       Ford          UNIT        MEDIUM      1356.0   \n",
       "\n",
       "     Student Enrollment - Low Income %  ClassSize  ...    MS  TeachRetRate  \\\n",
       "0                                 48.8       17.0  ...  43.8          92.9   \n",
       "1                                 24.9       20.0  ...  58.1          91.5   \n",
       "2                                 46.7       19.0  ...  57.1          81.3   \n",
       "3                                 20.2       18.0  ...  38.7          89.7   \n",
       "4                                 60.7       18.0  ...  42.6          73.6   \n",
       "..                                 ...        ...  ...   ...           ...   \n",
       "97                                70.4       17.0  ...  50.2          81.5   \n",
       "98                                67.1       16.0  ...  46.6          81.7   \n",
       "99                                 6.6       20.0  ...  51.8          93.1   \n",
       "100                               37.8       15.0  ...  38.1          89.4   \n",
       "101                               47.3       16.0  ...  48.5          86.0   \n",
       "\n",
       "     Teacher Avg Salary  AvgSalary    County   Dist #   \\\n",
       "0              36085.63   72141.72      Adams       10   \n",
       "1              41534.22   83605.24      Adams       20   \n",
       "2              47686.51   75068.50      Adams       30   \n",
       "3              40254.81   83692.00      Adams       40   \n",
       "4              45089.41   82764.57      Adams     1720   \n",
       "..                  ...        ...        ...      ...   \n",
       "97             53481.51  101981.41  Champaign     1160   \n",
       "98             46723.63   86848.35  Champaign     1930   \n",
       "99             43630.74   98092.33  Champaign     3050   \n",
       "100            50052.04  110113.51       Ford       50   \n",
       "101            44148.64   96122.29       Ford      100   \n",
       "\n",
       "           District Name/ School Name        City_y    ELA   Math  \n",
       "0                       Payson CUSD 1        Payson  524.3  489.1  \n",
       "1                      Liberty CUSD 2       Liberty  500.9  485.4  \n",
       "2                      Central CUSD 3    Camp Point  490.6  488.3  \n",
       "3                              CUSD 4        Mendon  505.9  485.0  \n",
       "4                       Quincy SD 172        Quincy  489.8  473.6  \n",
       "..                                ...           ...    ...    ...  \n",
       "97                      Urbana SD 116        Urbana  485.2  456.7  \n",
       "98           Rantoul Township HSD 193       Rantoul  450.8  435.8  \n",
       "99           St Joseph Ogden CHSD 305  Saint Joseph  546.3  563.7  \n",
       "100  Gibson City-Melvin-Sibley CUSD 5   Gibson City  543.2  526.7  \n",
       "101        Paxton-Buckley-Loda CUD 10        Paxton  501.2  509.9  \n",
       "\n",
       "[102 rows x 22 columns]"
      ]
     },
     "execution_count": 11,
     "metadata": {},
     "output_type": "execute_result"
    }
   ],
   "source": [
    "merge_df = pd.merge(district_df, scores_df, on = \"RCDTS\", how = \"left\")\n",
    "merge_df = merge_df.dropna()\n",
    "merge_df"
   ]
  },
  {
   "cell_type": "code",
   "execution_count": 26,
   "id": "b0225ff2",
   "metadata": {},
   "outputs": [],
   "source": [
    "merge_df.to_csv(\"Reg_Dist_R.csv\", index = False)"
   ]
  },
  {
   "cell_type": "code",
   "execution_count": 12,
   "id": "291af6a4",
   "metadata": {},
   "outputs": [],
   "source": [
    "import pandas as pd\n",
    "from pathlib import Path\n",
    "import matplotlib.pyplot as plt\n",
    "from sklearn.linear_model import LinearRegression"
   ]
  },
  {
   "cell_type": "code",
   "execution_count": 13,
   "id": "a1ed0261",
   "metadata": {},
   "outputs": [
    {
     "data": {
      "image/png": "[encoded data removed]",
      "text/plain": [
       "<Figure size 432x288 with 1 Axes>"
      ]
     },
     "metadata": {
      "needs_background": "light"
     },
     "output_type": "display_data"
    },
    {
     "name": "stdout",
     "output_type": "stream",
     "text": [
      "(102,)\n"
     ]
    },
    {
     "data": {
      "image/png": "[encoded data removed]",
      "text/plain": [
       "<Figure size 432x288 with 1 Axes>"
      ]
     },
     "metadata": {
      "needs_background": "light"
     },
     "output_type": "display_data"
    },
    {
     "name": "stdout",
     "output_type": "stream",
     "text": [
      "Coefficient  [0.00059006]\n",
      "Intercept  490.7312943116661\n"
     ]
    }
   ],
   "source": [
    "plt.scatter(merge_df.Enrollment, merge_df.Math)\n",
    "plt.xlabel('Enrollment')\n",
    "plt.ylabel('Math')\n",
    "plt.show()\n",
    "\n",
    "X = merge_df.Enrollment.values.reshape(-1, 1)\n",
    "y = merge_df.Math\n",
    "model = LinearRegression()\n",
    "model.fit(X, y)\n",
    "\n",
    "y_pred = model.predict(X)\n",
    "print(y_pred.shape)\n",
    "\n",
    "plt.scatter(X, y)\n",
    "plt.xlabel('Avg Enrollment')\n",
    "plt.ylabel('Math')\n",
    "plt.plot(X, y_pred, color='red')\n",
    "plt.show()\n",
    "\n",
    "print(\"Coefficient \", model.coef_)\n",
    "print(\"Intercept \", model.intercept_)"
   ]
  },
  {
   "cell_type": "code",
   "execution_count": 14,
   "id": "980b8cd7",
   "metadata": {},
   "outputs": [
    {
     "data": {
      "image/png": "[encoded data removed]",
      "text/plain": [
       "<Figure size 432x288 with 1 Axes>"
      ]
     },
     "metadata": {
      "needs_background": "light"
     },
     "output_type": "display_data"
    },
    {
     "name": "stdout",
     "output_type": "stream",
     "text": [
      "(102,)\n"
     ]
    },
    {
     "data": {
      "image/png": "[encoded data removed]",
      "text/plain": [
       "<Figure size 432x288 with 1 Axes>"
      ]
     },
     "metadata": {
      "needs_background": "light"
     },
     "output_type": "display_data"
    },
    {
     "name": "stdout",
     "output_type": "stream",
     "text": [
      "Coefficient  [0.00030393]\n",
      "Intercept  499.72949060500855\n"
     ]
    }
   ],
   "source": [
    "plt.scatter(merge_df.Enrollment, merge_df.ELA)\n",
    "plt.xlabel('Enrollment')\n",
    "plt.ylabel('ELA')\n",
    "plt.show()\n",
    "\n",
    "X = merge_df.Enrollment.values.reshape(-1, 1)\n",
    "y = merge_df.ELA\n",
    "model = LinearRegression()\n",
    "model.fit(X, y)\n",
    "\n",
    "y_pred = model.predict(X)\n",
    "print(y_pred.shape)\n",
    "\n",
    "plt.scatter(X, y)\n",
    "plt.xlabel('Avg Enrollment')\n",
    "plt.ylabel('ELA')\n",
    "plt.plot(X, y_pred, color='red')\n",
    "plt.show()\n",
    "\n",
    "print(\"Coefficient \", model.coef_)\n",
    "print(\"Intercept \", model.intercept_)"
   ]
  },
  {
   "cell_type": "code",
   "execution_count": 15,
   "id": "941fd9cb",
   "metadata": {},
   "outputs": [
    {
     "data": {
      "image/png": "[encoded data removed]",
      "text/plain": [
       "<Figure size 432x288 with 1 Axes>"
      ]
     },
     "metadata": {
      "needs_background": "light"
     },
     "output_type": "display_data"
    },
    {
     "name": "stdout",
     "output_type": "stream",
     "text": [
      "(102,)\n"
     ]
    },
    {
     "data": {
      "image/png": "[encoded data removed]",
      "text/plain": [
       "<Figure size 432x288 with 1 Axes>"
      ]
     },
     "metadata": {
      "needs_background": "light"
     },
     "output_type": "display_data"
    },
    {
     "name": "stdout",
     "output_type": "stream",
     "text": [
      "Coefficient  [6.18267633]\n",
      "Intercept  405.98946662800824\n"
     ]
    }
   ],
   "source": [
    "plt.scatter(merge_df.AvgTeachExp, merge_df.Math)\n",
    "plt.xlabel('Avg Teacher Experience')\n",
    "plt.ylabel('Math')\n",
    "plt.show()\n",
    "\n",
    "X = merge_df.AvgTeachExp.values.reshape(-1, 1)\n",
    "y = merge_df.Math\n",
    "model = LinearRegression()\n",
    "model.fit(X, y)\n",
    "\n",
    "y_pred = model.predict(X)\n",
    "print(y_pred.shape)\n",
    "\n",
    "plt.scatter(X, y)\n",
    "plt.xlabel('Avg Teacher Experience')\n",
    "plt.ylabel('Math')\n",
    "plt.plot(X, y_pred, color='red')\n",
    "plt.show()\n",
    "\n",
    "print(\"Coefficient \", model.coef_)\n",
    "print(\"Intercept \", model.intercept_)"
   ]
  },
  {
   "cell_type": "code",
   "execution_count": 16,
   "id": "f5006e68",
   "metadata": {},
   "outputs": [
    {
     "data": {
      "image/png": "[encoded data removed]",
      "text/plain": [
       "<Figure size 432x288 with 1 Axes>"
      ]
     },
     "metadata": {
      "needs_background": "light"
     },
     "output_type": "display_data"
    },
    {
     "name": "stdout",
     "output_type": "stream",
     "text": [
      "(102,)\n"
     ]
    },
    {
     "data": {
      "image/png": "[encoded data removed]",
      "text/plain": [
       "<Figure size 432x288 with 1 Axes>"
      ]
     },
     "metadata": {
      "needs_background": "light"
     },
     "output_type": "display_data"
    },
    {
     "name": "stdout",
     "output_type": "stream",
     "text": [
      "Coefficient  [4.24640862]\n",
      "Intercept  441.28264855649644\n"
     ]
    }
   ],
   "source": [
    "plt.scatter(merge_df.AvgTeachExp, merge_df.ELA)\n",
    "plt.xlabel('Avg Teacher Experience')\n",
    "plt.ylabel('ELA')\n",
    "plt.show()\n",
    "\n",
    "X = merge_df.AvgTeachExp.values.reshape(-1, 1)\n",
    "y = merge_df.ELA\n",
    "model = LinearRegression()\n",
    "model.fit(X, y)\n",
    "\n",
    "y_pred = model.predict(X)\n",
    "print(y_pred.shape)\n",
    "\n",
    "plt.scatter(X, y)\n",
    "plt.xlabel('Avg Teacher Experience')\n",
    "plt.ylabel('ELA')\n",
    "plt.plot(X, y_pred, color='red')\n",
    "plt.show()\n",
    "\n",
    "print(\"Coefficient \", model.coef_)\n",
    "print(\"Intercept \", model.intercept_)"
   ]
  },
  {
   "cell_type": "code",
   "execution_count": 17,
   "id": "1021db94",
   "metadata": {},
   "outputs": [
    {
     "data": {
      "image/png": "[encoded data removed]",
      "text/plain": [
       "<Figure size 432x288 with 1 Axes>"
      ]
     },
     "metadata": {
      "needs_background": "light"
     },
     "output_type": "display_data"
    },
    {
     "name": "stdout",
     "output_type": "stream",
     "text": [
      "(102,)\n"
     ]
    },
    {
     "data": {
      "image/png": "[encoded data removed]",
      "text/plain": [
       "<Figure size 432x288 with 1 Axes>"
      ]
     },
     "metadata": {
      "needs_background": "light"
     },
     "output_type": "display_data"
    },
    {
     "name": "stdout",
     "output_type": "stream",
     "text": [
      "Coefficient  [-0.68419887]\n",
      "Intercept  524.2136954354688\n"
     ]
    }
   ],
   "source": [
    "plt.scatter(merge_df.BS, merge_df.Math)\n",
    "plt.xlabel('Bachelor Degree')\n",
    "plt.ylabel('Math')\n",
    "plt.show()\n",
    "\n",
    "X = merge_df.BS.values.reshape(-1, 1)\n",
    "y = merge_df.Math\n",
    "model = LinearRegression()\n",
    "model.fit(X, y)\n",
    "\n",
    "y_pred = model.predict(X)\n",
    "print(y_pred.shape)\n",
    "\n",
    "plt.scatter(X, y)\n",
    "plt.xlabel('Bachelor Degree')\n",
    "plt.ylabel('Math')\n",
    "plt.plot(X, y_pred, color='red')\n",
    "plt.show()\n",
    "\n",
    "print(\"Coefficient \", model.coef_)\n",
    "print(\"Intercept \", model.intercept_)"
   ]
  },
  {
   "cell_type": "code",
   "execution_count": 18,
   "id": "26205d14",
   "metadata": {},
   "outputs": [
    {
     "data": {
      "image/png": "[encoded data removed]",
      "text/plain": [
       "<Figure size 432x288 with 1 Axes>"
      ]
     },
     "metadata": {
      "needs_background": "light"
     },
     "output_type": "display_data"
    },
    {
     "name": "stdout",
     "output_type": "stream",
     "text": [
      "(102,)\n"
     ]
    },
    {
     "data": {
      "image/png": "[encoded data removed]",
      "text/plain": [
       "<Figure size 432x288 with 1 Axes>"
      ]
     },
     "metadata": {
      "needs_background": "light"
     },
     "output_type": "display_data"
    },
    {
     "name": "stdout",
     "output_type": "stream",
     "text": [
      "Coefficient  [-0.49275399]\n",
      "Intercept  523.5516369783306\n"
     ]
    }
   ],
   "source": [
    "plt.scatter(merge_df.BS, merge_df.ELA)\n",
    "plt.xlabel('Bachelor Degree')\n",
    "plt.ylabel('ELA')\n",
    "plt.show()\n",
    "\n",
    "X = merge_df.BS.values.reshape(-1, 1)\n",
    "y = merge_df.ELA\n",
    "model = LinearRegression()\n",
    "model.fit(X, y)\n",
    "\n",
    "y_pred = model.predict(X)\n",
    "print(y_pred.shape)\n",
    "\n",
    "plt.scatter(X, y)\n",
    "plt.xlabel('Bachelor Degree')\n",
    "plt.ylabel('ELA')\n",
    "plt.plot(X, y_pred, color='red')\n",
    "plt.show()\n",
    "\n",
    "print(\"Coefficient \", model.coef_)\n",
    "print(\"Intercept \", model.intercept_)"
   ]
  },
  {
   "cell_type": "code",
   "execution_count": 19,
   "id": "8af3c293",
   "metadata": {},
   "outputs": [
    {
     "data": {
      "image/png": "[encoded data removed]",
      "text/plain": [
       "<Figure size 432x288 with 1 Axes>"
      ]
     },
     "metadata": {
      "needs_background": "light"
     },
     "output_type": "display_data"
    },
    {
     "name": "stdout",
     "output_type": "stream",
     "text": [
      "(102,)\n"
     ]
    },
    {
     "data": {
      "image/png": "[encoded data removed]",
      "text/plain": [
       "<Figure size 432x288 with 1 Axes>"
      ]
     },
     "metadata": {
      "needs_background": "light"
     },
     "output_type": "display_data"
    },
    {
     "name": "stdout",
     "output_type": "stream",
     "text": [
      "Coefficient  [0.69535273]\n",
      "Intercept  455.4294546836981\n"
     ]
    }
   ],
   "source": [
    "plt.scatter(merge_df.MS, merge_df.Math)\n",
    "plt.xlabel('Masters Degree')\n",
    "plt.ylabel('Math')\n",
    "plt.show()\n",
    "\n",
    "X = merge_df.MS.values.reshape(-1, 1)\n",
    "y = merge_df.Math\n",
    "model = LinearRegression()\n",
    "model.fit(X, y)\n",
    "\n",
    "y_pred = model.predict(X)\n",
    "print(y_pred.shape)\n",
    "\n",
    "plt.scatter(X, y)\n",
    "plt.xlabel('Masters Degree')\n",
    "plt.ylabel('Math')\n",
    "plt.plot(X, y_pred, color='red')\n",
    "plt.show()\n",
    "\n",
    "print(\"Coefficient \", model.coef_)\n",
    "print(\"Intercept \", model.intercept_)"
   ]
  },
  {
   "cell_type": "code",
   "execution_count": 20,
   "id": "bcbcae59",
   "metadata": {},
   "outputs": [
    {
     "data": {
      "image/png": "[encoded data removed]",
      "text/plain": [
       "<Figure size 432x288 with 1 Axes>"
      ]
     },
     "metadata": {
      "needs_background": "light"
     },
     "output_type": "display_data"
    },
    {
     "name": "stdout",
     "output_type": "stream",
     "text": [
      "(102,)\n"
     ]
    },
    {
     "data": {
      "image/png": "[encoded data removed]",
      "text/plain": [
       "<Figure size 432x288 with 1 Axes>"
      ]
     },
     "metadata": {
      "needs_background": "light"
     },
     "output_type": "display_data"
    },
    {
     "name": "stdout",
     "output_type": "stream",
     "text": [
      "Coefficient  [0.49878172]\n",
      "Intercept  474.1197329864194\n"
     ]
    }
   ],
   "source": [
    "plt.scatter(merge_df.MS, merge_df.ELA)\n",
    "plt.xlabel('Masters Degree')\n",
    "plt.ylabel('ELA')\n",
    "plt.show()\n",
    "\n",
    "X = merge_df.MS.values.reshape(-1, 1)\n",
    "y = merge_df.ELA\n",
    "model = LinearRegression()\n",
    "model.fit(X, y)\n",
    "\n",
    "y_pred = model.predict(X)\n",
    "print(y_pred.shape)\n",
    "\n",
    "plt.scatter(X, y)\n",
    "plt.xlabel('Masters Degree')\n",
    "plt.ylabel('ELA')\n",
    "plt.plot(X, y_pred, color='red')\n",
    "plt.show()\n",
    "\n",
    "print(\"Coefficient \", model.coef_)\n",
    "print(\"Intercept \", model.intercept_)"
   ]
  },
  {
   "cell_type": "code",
   "execution_count": 21,
   "id": "eb68f8b9",
   "metadata": {},
   "outputs": [
    {
     "data": {
      "image/png": "[encoded data removed]",
      "text/plain": [
       "<Figure size 432x288 with 1 Axes>"
      ]
     },
     "metadata": {
      "needs_background": "light"
     },
     "output_type": "display_data"
    },
    {
     "name": "stdout",
     "output_type": "stream",
     "text": [
      "(102,)\n"
     ]
    },
    {
     "data": {
      "image/png": "[encoded data removed]",
      "text/plain": [
       "<Figure size 432x288 with 1 Axes>"
      ]
     },
     "metadata": {
      "needs_background": "light"
     },
     "output_type": "display_data"
    },
    {
     "name": "stdout",
     "output_type": "stream",
     "text": [
      "Coefficient  [3.1953069]\n",
      "Intercept  213.13373062545963\n"
     ]
    }
   ],
   "source": [
    "plt.scatter(merge_df.TeachRetRate, merge_df.Math)\n",
    "plt.xlabel('Rate')\n",
    "plt.ylabel('Math')\n",
    "plt.show()\n",
    "\n",
    "X = merge_df.TeachRetRate.values.reshape(-1, 1)\n",
    "y = merge_df.Math\n",
    "model = LinearRegression()\n",
    "model.fit(X, y)\n",
    "\n",
    "y_pred = model.predict(X)\n",
    "print(y_pred.shape)\n",
    "\n",
    "plt.scatter(X, y)\n",
    "plt.xlabel('Rate')\n",
    "plt.ylabel('Math')\n",
    "plt.plot(X, y_pred, color='red')\n",
    "plt.show()\n",
    "\n",
    "print(\"Coefficient \", model.coef_)\n",
    "print(\"Intercept \", model.intercept_)"
   ]
  },
  {
   "cell_type": "code",
   "execution_count": 22,
   "id": "ed50ede6",
   "metadata": {},
   "outputs": [
    {
     "data": {
      "image/png": "[encoded data removed]",
      "text/plain": [
       "<Figure size 432x288 with 1 Axes>"
      ]
     },
     "metadata": {
      "needs_background": "light"
     },
     "output_type": "display_data"
    },
    {
     "name": "stdout",
     "output_type": "stream",
     "text": [
      "(102,)\n"
     ]
    },
    {
     "data": {
      "image/png": "[encoded data removed]",
      "text/plain": [
       "<Figure size 432x288 with 1 Axes>"
      ]
     },
     "metadata": {
      "needs_background": "light"
     },
     "output_type": "display_data"
    },
    {
     "name": "stdout",
     "output_type": "stream",
     "text": [
      "Coefficient  [2.52226724]\n",
      "Intercept  280.21343316703286\n"
     ]
    }
   ],
   "source": [
    "plt.scatter(merge_df.TeachRetRate, merge_df.ELA)\n",
    "plt.xlabel('Rate')\n",
    "plt.ylabel('ELA')\n",
    "plt.show()\n",
    "\n",
    "X = merge_df.TeachRetRate.values.reshape(-1, 1)\n",
    "y = merge_df.ELA\n",
    "model = LinearRegression()\n",
    "model.fit(X, y)\n",
    "\n",
    "y_pred = model.predict(X)\n",
    "print(y_pred.shape)\n",
    "\n",
    "plt.scatter(X, y)\n",
    "plt.xlabel('Rate')\n",
    "plt.ylabel('ELA')\n",
    "plt.plot(X, y_pred, color='red')\n",
    "plt.show()\n",
    "\n",
    "print(\"Coefficient \", model.coef_)\n",
    "print(\"Intercept \", model.intercept_)"
   ]
  },
  {
   "cell_type": "code",
   "execution_count": 23,
   "id": "458d4a1f",
   "metadata": {},
   "outputs": [
    {
     "data": {
      "image/png": "[encoded data removed]",
      "text/plain": [
       "<Figure size 432x288 with 1 Axes>"
      ]
     },
     "metadata": {
      "needs_background": "light"
     },
     "output_type": "display_data"
    },
    {
     "name": "stdout",
     "output_type": "stream",
     "text": [
      "(102,)\n"
     ]
    },
    {
     "data": {
      "image/png": "[encoded data removed]",
      "text/plain": [
       "<Figure size 432x288 with 1 Axes>"
      ]
     },
     "metadata": {
      "needs_background": "light"
     },
     "output_type": "display_data"
    },
    {
     "name": "stdout",
     "output_type": "stream",
     "text": [
      "Coefficient  [0.00095355]\n",
      "Intercept  394.50930766943736\n"
     ]
    }
   ],
   "source": [
    "plt.scatter(merge_df.AvgSalary, merge_df.Math)\n",
    "plt.xlabel('Avg Salary')\n",
    "plt.ylabel('Math')\n",
    "plt.show()\n",
    "\n",
    "X = merge_df.AvgSalary.values.reshape(-1, 1)\n",
    "y = merge_df.Math\n",
    "model = LinearRegression()\n",
    "model.fit(X, y)\n",
    "\n",
    "y_pred = model.predict(X)\n",
    "print(y_pred.shape)\n",
    "\n",
    "plt.scatter(X, y)\n",
    "plt.xlabel('Avg Salary')\n",
    "plt.ylabel('Math')\n",
    "plt.plot(X, y_pred, color='red')\n",
    "plt.show()\n",
    "\n",
    "print(\"Coefficient \", model.coef_)\n",
    "print(\"Intercept \", model.intercept_)"
   ]
  },
  {
   "cell_type": "code",
   "execution_count": 24,
   "id": "1ef3e219",
   "metadata": {},
   "outputs": [
    {
     "data": {
      "image/png": "[encoded data removed]",
      "text/plain": [
       "<Figure size 432x288 with 1 Axes>"
      ]
     },
     "metadata": {
      "needs_background": "light"
     },
     "output_type": "display_data"
    },
    {
     "name": "stdout",
     "output_type": "stream",
     "text": [
      "(102,)\n"
     ]
    },
    {
     "data": {
      "image/png": "[encoded data removed]",
      "text/plain": [
       "<Figure size 432x288 with 1 Axes>"
      ]
     },
     "metadata": {
      "needs_background": "light"
     },
     "output_type": "display_data"
    },
    {
     "name": "stdout",
     "output_type": "stream",
     "text": [
      "Coefficient  [0.00071598]\n",
      "Intercept  427.14535500773843\n"
     ]
    }
   ],
   "source": [
    "plt.scatter(merge_df.AvgSalary, merge_df.ELA)\n",
    "plt.xlabel('Avg Salary')\n",
    "plt.ylabel('ELA')\n",
    "plt.show()\n",
    "\n",
    "X = merge_df.AvgSalary.values.reshape(-1, 1)\n",
    "y = merge_df.ELA\n",
    "model = LinearRegression()\n",
    "model.fit(X, y)\n",
    "\n",
    "y_pred = model.predict(X)\n",
    "print(y_pred.shape)\n",
    "\n",
    "plt.scatter(X, y)\n",
    "plt.xlabel('Avg Salary')\n",
    "plt.ylabel('ELA')\n",
    "plt.plot(X, y_pred, color='red')\n",
    "plt.show()\n",
    "\n",
    "print(\"Coefficient \", model.coef_)\n",
    "print(\"Intercept \", model.intercept_)"
   ]
  }
 ],
 "metadata": {
  "kernelspec": {
   "display_name": "mlenv",
   "language": "python",
   "name": "mlenv"
  },
  "language_info": {
   "codemirror_mode": {
    "name": "ipython",
    "version": 3
   },
   "file_extension": ".py",
   "mimetype": "text/x-python",
   "name": "python",
   "nbconvert_exporter": "python",
   "pygments_lexer": "ipython3",
   "version": "3.7.13"
  }
 },
 "nbformat": 4,
 "nbformat_minor": 5
}
